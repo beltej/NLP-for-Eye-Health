{
 "cells": [
  {
   "cell_type": "code",
   "execution_count": 1,
   "metadata": {},
   "outputs": [],
   "source": [
    "import pandas as pd\n",
    "import numpy as np\n",
    "from sklearn.feature_extraction.text import TfidfVectorizer\n",
    "from sklearn.model_selection import train_test_split\n",
    "from sklearn.feature_selection import SelectKBest, chi2, mutual_info_classif\n",
    "from sklearn.ensemble import RandomForestClassifier\n",
    "from sklearn import svm\n",
    "from sklearn.naive_bayes import GaussianNB\n",
    "from sklearn.model_selection import cross_val_score\n",
    "from sklearn.feature_extraction import text \n",
    "from sklearn.metrics import precision_recall_fscore_support\n",
    "from sklearn import metrics\n",
    "# from sklearn.model_selection import StratifiedKFold"
   ]
  },
  {
   "cell_type": "code",
   "execution_count": 2,
   "metadata": {},
   "outputs": [],
   "source": [
    "# import sys\n",
    "# !conda install --yes --prefix {sys.prefix} numpy\n",
    "# !conda install --yes --prefix {sys.prefix} scikit-learn\n",
    "# !conda install --yes --prefix {sys.prefix} sklearn"
   ]
  },
  {
   "cell_type": "code",
   "execution_count": 3,
   "metadata": {},
   "outputs": [],
   "source": [
    "##### to print multiple outputs from same cell\n",
    "from IPython.core.interactiveshell import InteractiveShell\n",
    "InteractiveShell.ast_node_interactivity = \"all\""
   ]
  },
  {
   "cell_type": "code",
   "execution_count": 4,
   "metadata": {},
   "outputs": [],
   "source": [
    "file_path = \"/Users/tejasvibelsare/Documents/New_gold.xlsx\"\n",
    "train = pd.read_excel(file_path, sheet_name='Sheet1',usecols = \"B,H\")"
   ]
  },
  {
   "cell_type": "code",
   "execution_count": 5,
   "metadata": {},
   "outputs": [
    {
     "data": {
      "text/plain": [
       "86"
      ]
     },
     "execution_count": 5,
     "metadata": {},
     "output_type": "execute_result"
    }
   ],
   "source": [
    "len(train)"
   ]
  },
  {
   "cell_type": "code",
   "execution_count": 6,
   "metadata": {},
   "outputs": [
    {
     "data": {
      "text/plain": [
       "Index(['Contents', 'category'], dtype='object')"
      ]
     },
     "execution_count": 6,
     "metadata": {},
     "output_type": "execute_result"
    }
   ],
   "source": [
    "train.columns"
   ]
  },
  {
   "cell_type": "code",
   "execution_count": 7,
   "metadata": {},
   "outputs": [
    {
     "data": {
      "text/plain": [
       "45"
      ]
     },
     "execution_count": 7,
     "metadata": {},
     "output_type": "execute_result"
    }
   ],
   "source": [
    "len(train[train.category == 'allergic'])"
   ]
  },
  {
   "cell_type": "code",
   "execution_count": 8,
   "metadata": {},
   "outputs": [
    {
     "data": {
      "text/plain": [
       "41"
      ]
     },
     "execution_count": 8,
     "metadata": {},
     "output_type": "execute_result"
    }
   ],
   "source": [
    "len(train[train.category == 'infectious'])"
   ]
  },
  {
   "cell_type": "code",
   "execution_count": 9,
   "metadata": {
    "scrolled": true
   },
   "outputs": [
    {
     "data": {
      "text/html": [
       "<div>\n",
       "<style scoped>\n",
       "    .dataframe tbody tr th:only-of-type {\n",
       "        vertical-align: middle;\n",
       "    }\n",
       "\n",
       "    .dataframe tbody tr th {\n",
       "        vertical-align: top;\n",
       "    }\n",
       "\n",
       "    .dataframe thead th {\n",
       "        text-align: right;\n",
       "    }\n",
       "</style>\n",
       "<table border=\"1\" class=\"dataframe\">\n",
       "  <thead>\n",
       "    <tr style=\"text-align: right;\">\n",
       "      <th></th>\n",
       "      <th>Contents</th>\n",
       "      <th>category</th>\n",
       "    </tr>\n",
       "  </thead>\n",
       "  <tbody>\n",
       "    <tr>\n",
       "      <th>0</th>\n",
       "      <td>My allergies killin my widdle eyes ??</td>\n",
       "      <td>allergic</td>\n",
       "    </tr>\n",
       "    <tr>\n",
       "      <th>1</th>\n",
       "      <td>Well think I woke up today with pink eye smh...</td>\n",
       "      <td>infectious</td>\n",
       "    </tr>\n",
       "    <tr>\n",
       "      <th>2</th>\n",
       "      <td>Seriously fuck allergies my eyes hurt and itch...</td>\n",
       "      <td>allergic</td>\n",
       "    </tr>\n",
       "    <tr>\n",
       "      <th>3</th>\n",
       "      <td>My eye itchin #allergies</td>\n",
       "      <td>allergic</td>\n",
       "    </tr>\n",
       "    <tr>\n",
       "      <th>4</th>\n",
       "      <td>November was hand foot and mouth. December is ...</td>\n",
       "      <td>infectious</td>\n",
       "    </tr>\n",
       "  </tbody>\n",
       "</table>\n",
       "</div>"
      ],
      "text/plain": [
       "                                            Contents    category\n",
       "0              My allergies killin my widdle eyes ??    allergic\n",
       "1    Well think I woke up today with pink eye smh...  infectious\n",
       "2  Seriously fuck allergies my eyes hurt and itch...    allergic\n",
       "3                           My eye itchin #allergies    allergic\n",
       "4  November was hand foot and mouth. December is ...  infectious"
      ]
     },
     "execution_count": 9,
     "metadata": {},
     "output_type": "execute_result"
    }
   ],
   "source": [
    "train.head()"
   ]
  },
  {
   "cell_type": "code",
   "execution_count": 10,
   "metadata": {},
   "outputs": [],
   "source": [
    "## to convert all infectious records to 1 and allergic records to 0\n",
    "train.loc[train[\"category\"]=='infectious',\"category\"]=1\n",
    "train.loc[train[\"category\"]=='allergic',\"category\"]=0\n"
   ]
  },
  {
   "cell_type": "code",
   "execution_count": 11,
   "metadata": {},
   "outputs": [
    {
     "data": {
      "text/html": [
       "<div>\n",
       "<style scoped>\n",
       "    .dataframe tbody tr th:only-of-type {\n",
       "        vertical-align: middle;\n",
       "    }\n",
       "\n",
       "    .dataframe tbody tr th {\n",
       "        vertical-align: top;\n",
       "    }\n",
       "\n",
       "    .dataframe thead th {\n",
       "        text-align: right;\n",
       "    }\n",
       "</style>\n",
       "<table border=\"1\" class=\"dataframe\">\n",
       "  <thead>\n",
       "    <tr style=\"text-align: right;\">\n",
       "      <th></th>\n",
       "      <th>Contents</th>\n",
       "      <th>category</th>\n",
       "    </tr>\n",
       "  </thead>\n",
       "  <tbody>\n",
       "    <tr>\n",
       "      <th>0</th>\n",
       "      <td>My allergies killin my widdle eyes ??</td>\n",
       "      <td>0</td>\n",
       "    </tr>\n",
       "    <tr>\n",
       "      <th>1</th>\n",
       "      <td>Well think I woke up today with pink eye smh...</td>\n",
       "      <td>1</td>\n",
       "    </tr>\n",
       "    <tr>\n",
       "      <th>2</th>\n",
       "      <td>Seriously fuck allergies my eyes hurt and itch...</td>\n",
       "      <td>0</td>\n",
       "    </tr>\n",
       "    <tr>\n",
       "      <th>3</th>\n",
       "      <td>My eye itchin #allergies</td>\n",
       "      <td>0</td>\n",
       "    </tr>\n",
       "    <tr>\n",
       "      <th>4</th>\n",
       "      <td>November was hand foot and mouth. December is ...</td>\n",
       "      <td>1</td>\n",
       "    </tr>\n",
       "  </tbody>\n",
       "</table>\n",
       "</div>"
      ],
      "text/plain": [
       "                                            Contents category\n",
       "0              My allergies killin my widdle eyes ??        0\n",
       "1    Well think I woke up today with pink eye smh...        1\n",
       "2  Seriously fuck allergies my eyes hurt and itch...        0\n",
       "3                           My eye itchin #allergies        0\n",
       "4  November was hand foot and mouth. December is ...        1"
      ]
     },
     "execution_count": 11,
     "metadata": {},
     "output_type": "execute_result"
    }
   ],
   "source": [
    "train.head()"
   ]
  },
  {
   "cell_type": "code",
   "execution_count": 12,
   "metadata": {},
   "outputs": [],
   "source": [
    "train_x = train[\"Contents\"]\n",
    "train_y = train[\"category\"]\n",
    "train_y=train_y.astype('int')\n",
    "# train_y.todense()"
   ]
  },
  {
   "cell_type": "code",
   "execution_count": 13,
   "metadata": {},
   "outputs": [
    {
     "data": {
      "text/plain": [
       "0                 My allergies killin my widdle eyes ??\n",
       "1       Well think I woke up today with pink eye smh...\n",
       "2     Seriously fuck allergies my eyes hurt and itch...\n",
       "3                              My eye itchin #allergies\n",
       "4     November was hand foot and mouth. December is ...\n",
       "5                      Allergies ugh ((MY EYES))!!!!!!!\n",
       "6                                I have pink eye. Cool.\n",
       "7                                   I have pink eye fml\n",
       "8     Know how to feel like a kid again? Get a case ...\n",
       "9                Allergy season??...my eyes itch so bad\n",
       "10                       I woke up with Pink Eye wtffff\n",
       "11                MY ALLERGIES OMG MY EYES I CAN'T DEAL\n",
       "12    I have pink eye and a kid threw a pencil at me...\n",
       "13                      Pretty sure I have pink eye. Tf\n",
       "14    Thanks, Timehop, for reminding me that my kid ...\n",
       "15                         Ironic I would have pink eye\n",
       "16                            That kid gave me pink eye\n",
       "17                         I have pink eye. Awesome. ??\n",
       "18        These Allergies Man ??,My Eyes Itch Like Fuck\n",
       "19    A child just farted longer than a Macy's comme...\n",
       "20             crap I forgot my eye drops =/ #allergies\n",
       "21        My eye is itching, i need my allergy eyedrops\n",
       "22          Stupid allergies. My eye keep watering.. \n",
       "23    I'm not used to having allergies. My throat is...\n",
       "24                         God my eyes itch F ALLERGIES\n",
       "25               My eyes itch badly. Stinking allergies\n",
       "26                         My poor baby has pink Eye =(\n",
       "27                       pretty sure i have pink eye ??\n",
       "28                   My eyes hurt. Screw you allergies!\n",
       "29                          Aahhh my eyes ?? #allergies\n",
       "                            ...                        \n",
       "56                        My eyes burnnn!î† #allergies\n",
       "57    I really hope my baby not catching the pink ey...\n",
       "58    my baby got allergies, it's eye water every ti...\n",
       "59    I think my allergies starting to kick in ???? ...\n",
       "60    I would like to thank the child at summer camp...\n",
       "61    My poor little one now has pink eye...if its n...\n",
       "62                    My eye itches! Damn you allergies\n",
       "63    2 babies home with pink eye....ugh.....THANK Y...\n",
       "64                                   I have pink eye :)\n",
       "65    My throat, my eyes, my nose. Screw allergies #...\n",
       "66                   Morning. My kid has pink eye. Yay.\n",
       "67    These allergies have my eyes dry I NEED EYE DROPS\n",
       "68                    At home w baby. He has pink eye??\n",
       "69    Tonight I have one sick kid and one kid with (...\n",
       "70    Fuckkkkk these allergies I'm sneezing & my eye...\n",
       "71                    I seriously have pink eye again..\n",
       "72    So I woke up with pink eye i think this mornin...\n",
       "73    Went outside so my daughter could play... Nose...\n",
       "74                               My nose & eyes itching\n",
       "75    Could you NOT give my kid high five when you h...\n",
       "76                        Sike I have pink eye fml ????\n",
       "77                Damn allergy shots! Now my eyes itch!\n",
       "78        My eyes won't stop watering!!!! #allergies ??\n",
       "79                   My allergies got my eyes puffy smh\n",
       "80    Why every time black ppl have to take their ki...\n",
       "81             My eyes are itching freakin allergies ??\n",
       "82    @FOX19Kara haha, I wish! But, not sure I could...\n",
       "83    My allergies have my eyes itching something crazy\n",
       "84    Earlier this wk it was both kids w/pink eye. T...\n",
       "85             My eyes itching so bad ?? damn allergies\n",
       "Name: Contents, Length: 86, dtype: object"
      ]
     },
     "execution_count": 13,
     "metadata": {},
     "output_type": "execute_result"
    }
   ],
   "source": [
    "train_x"
   ]
  },
  {
   "cell_type": "code",
   "execution_count": 14,
   "metadata": {},
   "outputs": [],
   "source": [
    "tfidf = TfidfVectorizer(min_df=2,stop_words='english')"
   ]
  },
  {
   "cell_type": "code",
   "execution_count": 15,
   "metadata": {},
   "outputs": [
    {
     "data": {
      "text/plain": [
       "318"
      ]
     },
     "execution_count": 15,
     "metadata": {},
     "output_type": "execute_result"
    }
   ],
   "source": [
    "stop_words = text.ENGLISH_STOP_WORDS\n",
    "len(stop_words)"
   ]
  },
  {
   "cell_type": "code",
   "execution_count": 16,
   "metadata": {},
   "outputs": [
    {
     "data": {
      "text/plain": [
       "frozenset({'a',\n",
       "           'about',\n",
       "           'above',\n",
       "           'across',\n",
       "           'after',\n",
       "           'afterwards',\n",
       "           'again',\n",
       "           'against',\n",
       "           'all',\n",
       "           'almost',\n",
       "           'alone',\n",
       "           'along',\n",
       "           'already',\n",
       "           'also',\n",
       "           'although',\n",
       "           'always',\n",
       "           'am',\n",
       "           'among',\n",
       "           'amongst',\n",
       "           'amoungst',\n",
       "           'amount',\n",
       "           'an',\n",
       "           'and',\n",
       "           'another',\n",
       "           'any',\n",
       "           'anyhow',\n",
       "           'anyone',\n",
       "           'anything',\n",
       "           'anyway',\n",
       "           'anywhere',\n",
       "           'are',\n",
       "           'around',\n",
       "           'as',\n",
       "           'at',\n",
       "           'back',\n",
       "           'be',\n",
       "           'became',\n",
       "           'because',\n",
       "           'become',\n",
       "           'becomes',\n",
       "           'becoming',\n",
       "           'been',\n",
       "           'before',\n",
       "           'beforehand',\n",
       "           'behind',\n",
       "           'being',\n",
       "           'below',\n",
       "           'beside',\n",
       "           'besides',\n",
       "           'between',\n",
       "           'beyond',\n",
       "           'bill',\n",
       "           'both',\n",
       "           'bottom',\n",
       "           'but',\n",
       "           'by',\n",
       "           'call',\n",
       "           'can',\n",
       "           'cannot',\n",
       "           'cant',\n",
       "           'co',\n",
       "           'con',\n",
       "           'could',\n",
       "           'couldnt',\n",
       "           'cry',\n",
       "           'de',\n",
       "           'describe',\n",
       "           'detail',\n",
       "           'do',\n",
       "           'done',\n",
       "           'down',\n",
       "           'due',\n",
       "           'during',\n",
       "           'each',\n",
       "           'eg',\n",
       "           'eight',\n",
       "           'either',\n",
       "           'eleven',\n",
       "           'else',\n",
       "           'elsewhere',\n",
       "           'empty',\n",
       "           'enough',\n",
       "           'etc',\n",
       "           'even',\n",
       "           'ever',\n",
       "           'every',\n",
       "           'everyone',\n",
       "           'everything',\n",
       "           'everywhere',\n",
       "           'except',\n",
       "           'few',\n",
       "           'fifteen',\n",
       "           'fifty',\n",
       "           'fill',\n",
       "           'find',\n",
       "           'fire',\n",
       "           'first',\n",
       "           'five',\n",
       "           'for',\n",
       "           'former',\n",
       "           'formerly',\n",
       "           'forty',\n",
       "           'found',\n",
       "           'four',\n",
       "           'from',\n",
       "           'front',\n",
       "           'full',\n",
       "           'further',\n",
       "           'get',\n",
       "           'give',\n",
       "           'go',\n",
       "           'had',\n",
       "           'has',\n",
       "           'hasnt',\n",
       "           'have',\n",
       "           'he',\n",
       "           'hence',\n",
       "           'her',\n",
       "           'here',\n",
       "           'hereafter',\n",
       "           'hereby',\n",
       "           'herein',\n",
       "           'hereupon',\n",
       "           'hers',\n",
       "           'herself',\n",
       "           'him',\n",
       "           'himself',\n",
       "           'his',\n",
       "           'how',\n",
       "           'however',\n",
       "           'hundred',\n",
       "           'i',\n",
       "           'ie',\n",
       "           'if',\n",
       "           'in',\n",
       "           'inc',\n",
       "           'indeed',\n",
       "           'interest',\n",
       "           'into',\n",
       "           'is',\n",
       "           'it',\n",
       "           'its',\n",
       "           'itself',\n",
       "           'keep',\n",
       "           'last',\n",
       "           'latter',\n",
       "           'latterly',\n",
       "           'least',\n",
       "           'less',\n",
       "           'ltd',\n",
       "           'made',\n",
       "           'many',\n",
       "           'may',\n",
       "           'me',\n",
       "           'meanwhile',\n",
       "           'might',\n",
       "           'mill',\n",
       "           'mine',\n",
       "           'more',\n",
       "           'moreover',\n",
       "           'most',\n",
       "           'mostly',\n",
       "           'move',\n",
       "           'much',\n",
       "           'must',\n",
       "           'my',\n",
       "           'myself',\n",
       "           'name',\n",
       "           'namely',\n",
       "           'neither',\n",
       "           'never',\n",
       "           'nevertheless',\n",
       "           'next',\n",
       "           'nine',\n",
       "           'no',\n",
       "           'nobody',\n",
       "           'none',\n",
       "           'noone',\n",
       "           'nor',\n",
       "           'not',\n",
       "           'nothing',\n",
       "           'now',\n",
       "           'nowhere',\n",
       "           'of',\n",
       "           'off',\n",
       "           'often',\n",
       "           'on',\n",
       "           'once',\n",
       "           'one',\n",
       "           'only',\n",
       "           'onto',\n",
       "           'or',\n",
       "           'other',\n",
       "           'others',\n",
       "           'otherwise',\n",
       "           'our',\n",
       "           'ours',\n",
       "           'ourselves',\n",
       "           'out',\n",
       "           'over',\n",
       "           'own',\n",
       "           'part',\n",
       "           'per',\n",
       "           'perhaps',\n",
       "           'please',\n",
       "           'put',\n",
       "           'rather',\n",
       "           're',\n",
       "           'same',\n",
       "           'see',\n",
       "           'seem',\n",
       "           'seemed',\n",
       "           'seeming',\n",
       "           'seems',\n",
       "           'serious',\n",
       "           'several',\n",
       "           'she',\n",
       "           'should',\n",
       "           'show',\n",
       "           'side',\n",
       "           'since',\n",
       "           'sincere',\n",
       "           'six',\n",
       "           'sixty',\n",
       "           'so',\n",
       "           'some',\n",
       "           'somehow',\n",
       "           'someone',\n",
       "           'something',\n",
       "           'sometime',\n",
       "           'sometimes',\n",
       "           'somewhere',\n",
       "           'still',\n",
       "           'such',\n",
       "           'system',\n",
       "           'take',\n",
       "           'ten',\n",
       "           'than',\n",
       "           'that',\n",
       "           'the',\n",
       "           'their',\n",
       "           'them',\n",
       "           'themselves',\n",
       "           'then',\n",
       "           'thence',\n",
       "           'there',\n",
       "           'thereafter',\n",
       "           'thereby',\n",
       "           'therefore',\n",
       "           'therein',\n",
       "           'thereupon',\n",
       "           'these',\n",
       "           'they',\n",
       "           'thick',\n",
       "           'thin',\n",
       "           'third',\n",
       "           'this',\n",
       "           'those',\n",
       "           'though',\n",
       "           'three',\n",
       "           'through',\n",
       "           'throughout',\n",
       "           'thru',\n",
       "           'thus',\n",
       "           'to',\n",
       "           'together',\n",
       "           'too',\n",
       "           'top',\n",
       "           'toward',\n",
       "           'towards',\n",
       "           'twelve',\n",
       "           'twenty',\n",
       "           'two',\n",
       "           'un',\n",
       "           'under',\n",
       "           'until',\n",
       "           'up',\n",
       "           'upon',\n",
       "           'us',\n",
       "           'very',\n",
       "           'via',\n",
       "           'was',\n",
       "           'we',\n",
       "           'well',\n",
       "           'were',\n",
       "           'what',\n",
       "           'whatever',\n",
       "           'when',\n",
       "           'whence',\n",
       "           'whenever',\n",
       "           'where',\n",
       "           'whereafter',\n",
       "           'whereas',\n",
       "           'whereby',\n",
       "           'wherein',\n",
       "           'whereupon',\n",
       "           'wherever',\n",
       "           'whether',\n",
       "           'which',\n",
       "           'while',\n",
       "           'whither',\n",
       "           'who',\n",
       "           'whoever',\n",
       "           'whole',\n",
       "           'whom',\n",
       "           'whose',\n",
       "           'why',\n",
       "           'will',\n",
       "           'with',\n",
       "           'within',\n",
       "           'without',\n",
       "           'would',\n",
       "           'yet',\n",
       "           'you',\n",
       "           'your',\n",
       "           'yours',\n",
       "           'yourself',\n",
       "           'yourselves'})"
      ]
     },
     "execution_count": 16,
     "metadata": {},
     "output_type": "execute_result"
    }
   ],
   "source": [
    "stop_words"
   ]
  },
  {
   "cell_type": "code",
   "execution_count": 17,
   "metadata": {},
   "outputs": [],
   "source": [
    "## to split the training and testing data\n",
    "# x_train,x_test,y_train,y_test = train_test_split(train_x, train_y,test_size=0.2,random_state = 4)"
   ]
  },
  {
   "cell_type": "code",
   "execution_count": 18,
   "metadata": {},
   "outputs": [],
   "source": [
    "# train_x.ndim\n",
    "# vectorizer = TfidfVectorizer(sublinear_tf=True, max_df=0.5,stop_words='english')\n",
    "# X_train = vectorizer.fit_transform(data_train.data)"
   ]
  },
  {
   "cell_type": "code",
   "execution_count": 19,
   "metadata": {},
   "outputs": [
    {
     "data": {
      "text/plain": [
       "2"
      ]
     },
     "execution_count": 19,
     "metadata": {},
     "output_type": "execute_result"
    }
   ],
   "source": [
    "# x_traintfidf = tfidf.fit_transform(x_train)\n",
    "x_traintfidf = tfidf.fit_transform(train_x)\n",
    "x_traintfidf.ndim"
   ]
  },
  {
   "cell_type": "code",
   "execution_count": 20,
   "metadata": {},
   "outputs": [
    {
     "data": {
      "text/plain": [
       "55"
      ]
     },
     "execution_count": 20,
     "metadata": {},
     "output_type": "execute_result"
    }
   ],
   "source": [
    "len(tfidf.get_feature_names())\n"
   ]
  },
  {
   "cell_type": "code",
   "execution_count": 21,
   "metadata": {},
   "outputs": [
    {
     "data": {
      "text/plain": [
       "['allergies',\n",
       " 'allergy',\n",
       " 'baby',\n",
       " 'bad',\n",
       " 'breathe',\n",
       " 'camp',\n",
       " 'case',\n",
       " 'child',\n",
       " 'cool',\n",
       " 'damn',\n",
       " 'drops',\n",
       " 'eye',\n",
       " 'eyes',\n",
       " 'fml',\n",
       " 'fuck',\n",
       " 'gave',\n",
       " 'got',\n",
       " 'home',\n",
       " 'hurt',\n",
       " 'infection',\n",
       " 'itch',\n",
       " 'itching',\n",
       " 'just',\n",
       " 'kid',\n",
       " 'kids',\n",
       " 'like',\n",
       " 'morning',\n",
       " 'need',\n",
       " 'nose',\n",
       " 'outside',\n",
       " 'pink',\n",
       " 'pissed',\n",
       " 'poor',\n",
       " 'pretty',\n",
       " 'puffy',\n",
       " 'screw',\n",
       " 'season',\n",
       " 'seriously',\n",
       " 'smh',\n",
       " 'sneezing',\n",
       " 'son',\n",
       " 'summer',\n",
       " 'sure',\n",
       " 'thank',\n",
       " 'thanks',\n",
       " 'think',\n",
       " 'throat',\n",
       " 'time',\n",
       " 'today',\n",
       " 'tonight',\n",
       " 'ugh',\n",
       " 'viral',\n",
       " 'watering',\n",
       " 'woke',\n",
       " 'wtf']"
      ]
     },
     "execution_count": 21,
     "metadata": {},
     "output_type": "execute_result"
    }
   ],
   "source": [
    "tfidf.get_feature_names()\n",
    "### list of all features\n"
   ]
  },
  {
   "cell_type": "code",
   "execution_count": 22,
   "metadata": {},
   "outputs": [],
   "source": [
    "ch2 = SelectKBest(chi2, k=2)\n",
    "ch2_X_train = ch2.fit_transform(x_traintfidf, train_y)\n",
    "\n",
    "mutual = SelectKBest(mutual_info_classif, k=3)\n",
    "mutual_X_train = mutual.fit_transform(x_traintfidf, train_y)"
   ]
  },
  {
   "cell_type": "code",
   "execution_count": 23,
   "metadata": {},
   "outputs": [
    {
     "data": {
      "text/plain": [
       "(86, 2)"
      ]
     },
     "execution_count": 23,
     "metadata": {},
     "output_type": "execute_result"
    },
    {
     "data": {
      "text/plain": [
       "(86, 3)"
      ]
     },
     "execution_count": 23,
     "metadata": {},
     "output_type": "execute_result"
    }
   ],
   "source": [
    "ch2_X_train.shape\n",
    "mutual_X_train.shape"
   ]
  },
  {
   "cell_type": "code",
   "execution_count": null,
   "metadata": {},
   "outputs": [],
   "source": []
  },
  {
   "cell_type": "code",
   "execution_count": 24,
   "metadata": {},
   "outputs": [
    {
     "data": {
      "text/plain": [
       "'My allergies killin my widdle eyes ??'"
      ]
     },
     "execution_count": 24,
     "metadata": {},
     "output_type": "execute_result"
    }
   ],
   "source": [
    "# X_train.inverse_transform(X_train[0])\n",
    "train_x[0]\n",
    "# X_train[0]\n"
   ]
  },
  {
   "cell_type": "code",
   "execution_count": 25,
   "metadata": {},
   "outputs": [
    {
     "data": {
      "text/plain": [
       "[array(['allergy'], dtype='<U9')]"
      ]
     },
     "execution_count": 25,
     "metadata": {},
     "output_type": "execute_result"
    }
   ],
   "source": [
    "tfidf.inverse_transform(ch2_X_train[1])"
   ]
  },
  {
   "cell_type": "code",
   "execution_count": 26,
   "metadata": {},
   "outputs": [
    {
     "data": {
      "text/plain": [
       "[array(['allergies'], dtype='<U9')]"
      ]
     },
     "execution_count": 26,
     "metadata": {},
     "output_type": "execute_result"
    }
   ],
   "source": [
    "tfidf.inverse_transform(mutual_X_train[2])"
   ]
  },
  {
   "cell_type": "code",
   "execution_count": null,
   "metadata": {},
   "outputs": [],
   "source": []
  },
  {
   "cell_type": "code",
   "execution_count": 27,
   "metadata": {},
   "outputs": [
    {
     "data": {
      "text/plain": [
       "2"
      ]
     },
     "execution_count": 27,
     "metadata": {},
     "output_type": "execute_result"
    }
   ],
   "source": [
    "## all training data converted to vectors\n",
    "arr = x_traintfidf.toarray()\n",
    "# arr = np.array(x_traintfidf)\n",
    "arr.ndim\n",
    "# x_traintfidf.todense()"
   ]
  },
  {
   "cell_type": "code",
   "execution_count": 28,
   "metadata": {},
   "outputs": [],
   "source": [
    "# to create pipelining\n",
    "# text_clf_red = Pipeline([('vect', CountVectorizer()), \n",
    "#                        ('reducer', SelectKBest(chi2, k=3000)),\n",
    "#                        ('clf', MultinomialNB())\n",
    "#                        ])\n",
    "\n",
    "# text_clf_red.fit(X_train, y_train)\n",
    "# y_test_pred = text_clf_red.predict(X_test)\n",
    "# metrics.accuracy_score(y_test, y_test_pred)"
   ]
  },
  {
   "cell_type": "code",
   "execution_count": 29,
   "metadata": {},
   "outputs": [],
   "source": [
    "modelRandom = RandomForestClassifier(max_depth=3)\n",
    "modelSVM = svm.SVC(kernel='linear')\n",
    "modelNaive = GaussianNB()"
   ]
  },
  {
   "cell_type": "code",
   "execution_count": 30,
   "metadata": {},
   "outputs": [],
   "source": [
    "# modelRandom.fit(X_train, train_y)"
   ]
  },
  {
   "cell_type": "code",
   "execution_count": 31,
   "metadata": {},
   "outputs": [],
   "source": [
    "# modelSVM.fit(X_train, train_y)"
   ]
  },
  {
   "cell_type": "code",
   "execution_count": 32,
   "metadata": {},
   "outputs": [],
   "source": [
    "# modelNaive.fit(X_train, train_y)  ###### giving error"
   ]
  },
  {
   "cell_type": "code",
   "execution_count": 33,
   "metadata": {},
   "outputs": [],
   "source": [
    "## to convert data into integer format\n",
    "# y_train = y_train.astype('int')\n",
    "# modelRandom.fit(x_traintfidf,y_train)\n",
    "# x_testtfidf = tfidf.transform(x_test)\n",
    "# pred = modelRandom.predict(x_testtfidf)\n",
    "# len(pred)\n",
    "# len(x_test)\n",
    "# actual = np.array(y_test)\n",
    "# actual"
   ]
  },
  {
   "cell_type": "code",
   "execution_count": 34,
   "metadata": {},
   "outputs": [
    {
     "data": {
      "text/plain": [
       "0     0\n",
       "1     1\n",
       "2     0\n",
       "3     0\n",
       "4     1\n",
       "5     0\n",
       "6     1\n",
       "7     1\n",
       "8     1\n",
       "9     0\n",
       "10    1\n",
       "11    0\n",
       "12    1\n",
       "13    1\n",
       "14    1\n",
       "15    1\n",
       "16    1\n",
       "17    1\n",
       "18    0\n",
       "19    1\n",
       "20    0\n",
       "21    0\n",
       "22    0\n",
       "23    0\n",
       "24    0\n",
       "25    0\n",
       "26    1\n",
       "27    1\n",
       "28    0\n",
       "29    0\n",
       "     ..\n",
       "56    0\n",
       "57    1\n",
       "58    0\n",
       "59    0\n",
       "60    1\n",
       "61    1\n",
       "62    0\n",
       "63    1\n",
       "64    1\n",
       "65    0\n",
       "66    1\n",
       "67    0\n",
       "68    1\n",
       "69    1\n",
       "70    0\n",
       "71    1\n",
       "72    1\n",
       "73    0\n",
       "74    0\n",
       "75    1\n",
       "76    1\n",
       "77    0\n",
       "78    0\n",
       "79    0\n",
       "80    1\n",
       "81    0\n",
       "82    0\n",
       "83    0\n",
       "84    1\n",
       "85    0\n",
       "Name: category, Length: 86, dtype: int64"
      ]
     },
     "execution_count": 34,
     "metadata": {},
     "output_type": "execute_result"
    }
   ],
   "source": [
    "train_y"
   ]
  },
  {
   "cell_type": "code",
   "execution_count": 35,
   "metadata": {},
   "outputs": [
    {
     "name": "stderr",
     "output_type": "stream",
     "text": [
      "/anaconda3/lib/python3.7/site-packages/sklearn/ensemble/forest.py:246: FutureWarning: The default value of n_estimators will change from 10 in version 0.20 to 100 in 0.22.\n",
      "  \"10 in version 0.20 to 100 in 0.22.\", FutureWarning)\n",
      "/anaconda3/lib/python3.7/site-packages/sklearn/ensemble/forest.py:246: FutureWarning: The default value of n_estimators will change from 10 in version 0.20 to 100 in 0.22.\n",
      "  \"10 in version 0.20 to 100 in 0.22.\", FutureWarning)\n",
      "/anaconda3/lib/python3.7/site-packages/sklearn/ensemble/forest.py:246: FutureWarning: The default value of n_estimators will change from 10 in version 0.20 to 100 in 0.22.\n",
      "  \"10 in version 0.20 to 100 in 0.22.\", FutureWarning)\n",
      "/anaconda3/lib/python3.7/site-packages/sklearn/ensemble/forest.py:246: FutureWarning: The default value of n_estimators will change from 10 in version 0.20 to 100 in 0.22.\n",
      "  \"10 in version 0.20 to 100 in 0.22.\", FutureWarning)\n",
      "/anaconda3/lib/python3.7/site-packages/sklearn/ensemble/forest.py:246: FutureWarning: The default value of n_estimators will change from 10 in version 0.20 to 100 in 0.22.\n",
      "  \"10 in version 0.20 to 100 in 0.22.\", FutureWarning)\n",
      "/anaconda3/lib/python3.7/site-packages/sklearn/ensemble/forest.py:246: FutureWarning: The default value of n_estimators will change from 10 in version 0.20 to 100 in 0.22.\n",
      "  \"10 in version 0.20 to 100 in 0.22.\", FutureWarning)\n",
      "/anaconda3/lib/python3.7/site-packages/sklearn/ensemble/forest.py:246: FutureWarning: The default value of n_estimators will change from 10 in version 0.20 to 100 in 0.22.\n",
      "  \"10 in version 0.20 to 100 in 0.22.\", FutureWarning)\n",
      "/anaconda3/lib/python3.7/site-packages/sklearn/ensemble/forest.py:246: FutureWarning: The default value of n_estimators will change from 10 in version 0.20 to 100 in 0.22.\n",
      "  \"10 in version 0.20 to 100 in 0.22.\", FutureWarning)\n",
      "/anaconda3/lib/python3.7/site-packages/sklearn/ensemble/forest.py:246: FutureWarning: The default value of n_estimators will change from 10 in version 0.20 to 100 in 0.22.\n",
      "  \"10 in version 0.20 to 100 in 0.22.\", FutureWarning)\n",
      "/anaconda3/lib/python3.7/site-packages/sklearn/ensemble/forest.py:246: FutureWarning: The default value of n_estimators will change from 10 in version 0.20 to 100 in 0.22.\n",
      "  \"10 in version 0.20 to 100 in 0.22.\", FutureWarning)\n",
      "/anaconda3/lib/python3.7/site-packages/sklearn/ensemble/forest.py:246: FutureWarning: The default value of n_estimators will change from 10 in version 0.20 to 100 in 0.22.\n",
      "  \"10 in version 0.20 to 100 in 0.22.\", FutureWarning)\n",
      "/anaconda3/lib/python3.7/site-packages/sklearn/ensemble/forest.py:246: FutureWarning: The default value of n_estimators will change from 10 in version 0.20 to 100 in 0.22.\n",
      "  \"10 in version 0.20 to 100 in 0.22.\", FutureWarning)\n",
      "/anaconda3/lib/python3.7/site-packages/sklearn/ensemble/forest.py:246: FutureWarning: The default value of n_estimators will change from 10 in version 0.20 to 100 in 0.22.\n",
      "  \"10 in version 0.20 to 100 in 0.22.\", FutureWarning)\n",
      "/anaconda3/lib/python3.7/site-packages/sklearn/ensemble/forest.py:246: FutureWarning: The default value of n_estimators will change from 10 in version 0.20 to 100 in 0.22.\n",
      "  \"10 in version 0.20 to 100 in 0.22.\", FutureWarning)\n",
      "/anaconda3/lib/python3.7/site-packages/sklearn/ensemble/forest.py:246: FutureWarning: The default value of n_estimators will change from 10 in version 0.20 to 100 in 0.22.\n",
      "  \"10 in version 0.20 to 100 in 0.22.\", FutureWarning)\n",
      "/anaconda3/lib/python3.7/site-packages/sklearn/ensemble/forest.py:246: FutureWarning: The default value of n_estimators will change from 10 in version 0.20 to 100 in 0.22.\n",
      "  \"10 in version 0.20 to 100 in 0.22.\", FutureWarning)\n",
      "/anaconda3/lib/python3.7/site-packages/sklearn/ensemble/forest.py:246: FutureWarning: The default value of n_estimators will change from 10 in version 0.20 to 100 in 0.22.\n",
      "  \"10 in version 0.20 to 100 in 0.22.\", FutureWarning)\n",
      "/anaconda3/lib/python3.7/site-packages/sklearn/ensemble/forest.py:246: FutureWarning: The default value of n_estimators will change from 10 in version 0.20 to 100 in 0.22.\n",
      "  \"10 in version 0.20 to 100 in 0.22.\", FutureWarning)\n",
      "/anaconda3/lib/python3.7/site-packages/sklearn/ensemble/forest.py:246: FutureWarning: The default value of n_estimators will change from 10 in version 0.20 to 100 in 0.22.\n",
      "  \"10 in version 0.20 to 100 in 0.22.\", FutureWarning)\n",
      "/anaconda3/lib/python3.7/site-packages/sklearn/ensemble/forest.py:246: FutureWarning: The default value of n_estimators will change from 10 in version 0.20 to 100 in 0.22.\n",
      "  \"10 in version 0.20 to 100 in 0.22.\", FutureWarning)\n"
     ]
    }
   ],
   "source": [
    "\n",
    "modelRandom_crossValidation_ch2_accuracy = cross_val_score(modelRandom, ch2_X_train,train_y, cv=5, scoring='accuracy')\n",
    "modelSVM_crossValidation_ch2_accuracy = cross_val_score(modelSVM,ch2_X_train,train_y,cv=5,scoring='accuracy')\n",
    "# modelNaive_crossValidation_ch2_accuracy = cross_val_score(modelNaive,ch2_X_train,train_y, cv=5, scoring='accuracy')\n",
    "\n",
    "\n",
    "modelRandom_crossValidation_mutual_accuracy = cross_val_score(modelRandom, mutual_X_train,train_y, cv=5, scoring='accuracy')\n",
    "modelSVM_crossValidation_mutual_accuracy = cross_val_score(modelSVM,mutual_X_train,train_y,cv=5,scoring='accuracy')\n",
    "# modelNaive_crossValidation_mutual_accuracy = cross_val_score(modelNaive,mutual_X_train,train_y, cv=5, scoring='accuracy')\n",
    "\n",
    "modelRandom_crossValidation_ch2_f1 = cross_val_score(modelRandom, ch2_X_train,train_y, cv=5, scoring='accuracy')\n",
    "modelSVM_crossValidation_ch2_f1 = cross_val_score(modelSVM,ch2_X_train,train_y,cv=5,scoring='accuracy')\n",
    "# modelNaive_crossValidation_ch2_f1 = cross_val_score(modelNaive,ch2_X_train,train_y, cv=5, scoring='accuracy')\n",
    "\n",
    "\n",
    "modelRandom_crossValidation_mutual_f1 = cross_val_score(modelRandom, mutual_X_train,train_y, cv=5, scoring='accuracy')\n",
    "modelSVM_crossValidation_mutual_f1 = cross_val_score(modelSVM,mutual_X_train,train_y,cv=5,scoring='accuracy')\n",
    "# modelNaive_crossValidation_mutual_f1 = cross_val_score(modelNaive,mutual_X_train,train_y, cv=5, scoring='accuracy')\n"
   ]
  },
  {
   "cell_type": "code",
   "execution_count": 36,
   "metadata": {},
   "outputs": [
    {
     "data": {
      "text/plain": [
       "array([1., 1., 1., 1., 1.])"
      ]
     },
     "execution_count": 36,
     "metadata": {},
     "output_type": "execute_result"
    },
    {
     "data": {
      "text/plain": [
       "array([1., 1., 1., 1., 1.])"
      ]
     },
     "execution_count": 36,
     "metadata": {},
     "output_type": "execute_result"
    }
   ],
   "source": [
    "modelRandom_crossValidation_ch2_accuracy\n",
    "modelSVM_crossValidation_ch2_accuracy\n"
   ]
  },
  {
   "cell_type": "code",
   "execution_count": 37,
   "metadata": {},
   "outputs": [
    {
     "data": {
      "text/plain": [
       "array([1., 1., 1., 1., 1.])"
      ]
     },
     "execution_count": 37,
     "metadata": {},
     "output_type": "execute_result"
    },
    {
     "data": {
      "text/plain": [
       "array([1., 1., 1., 1., 1.])"
      ]
     },
     "execution_count": 37,
     "metadata": {},
     "output_type": "execute_result"
    }
   ],
   "source": [
    "modelRandom_crossValidation_mutual_accuracy\n",
    "modelSVM_crossValidation_mutual_accuracy"
   ]
  },
  {
   "cell_type": "code",
   "execution_count": 38,
   "metadata": {},
   "outputs": [
    {
     "data": {
      "text/plain": [
       "array([1., 1., 1., 1., 1.])"
      ]
     },
     "execution_count": 38,
     "metadata": {},
     "output_type": "execute_result"
    },
    {
     "data": {
      "text/plain": [
       "array([1., 1., 1., 1., 1.])"
      ]
     },
     "execution_count": 38,
     "metadata": {},
     "output_type": "execute_result"
    }
   ],
   "source": [
    "modelRandom_crossValidation_ch2_f1\n",
    "modelSVM_crossValidation_ch2_f1\n"
   ]
  },
  {
   "cell_type": "code",
   "execution_count": 39,
   "metadata": {},
   "outputs": [
    {
     "data": {
      "text/plain": [
       "array([1., 1., 1., 1., 1.])"
      ]
     },
     "execution_count": 39,
     "metadata": {},
     "output_type": "execute_result"
    },
    {
     "data": {
      "text/plain": [
       "array([1., 1., 1., 1., 1.])"
      ]
     },
     "execution_count": 39,
     "metadata": {},
     "output_type": "execute_result"
    }
   ],
   "source": [
    "modelRandom_crossValidation_mutual_f1\n",
    "modelSVM_crossValidation_mutual_f1"
   ]
  },
  {
   "cell_type": "code",
   "execution_count": 40,
   "metadata": {},
   "outputs": [
    {
     "data": {
      "text/plain": [
       "1.0"
      ]
     },
     "execution_count": 40,
     "metadata": {},
     "output_type": "execute_result"
    },
    {
     "data": {
      "text/plain": [
       "1.0"
      ]
     },
     "execution_count": 40,
     "metadata": {},
     "output_type": "execute_result"
    }
   ],
   "source": [
    "### Mean model accuracy of 5 folds\n",
    "modelRandom_crossValidation_ch2_accuracy.mean()\n",
    "modelSVM_crossValidation_ch2_accuracy.mean()"
   ]
  },
  {
   "cell_type": "code",
   "execution_count": 41,
   "metadata": {},
   "outputs": [
    {
     "data": {
      "text/plain": [
       "1.0"
      ]
     },
     "execution_count": 41,
     "metadata": {},
     "output_type": "execute_result"
    },
    {
     "data": {
      "text/plain": [
       "1.0"
      ]
     },
     "execution_count": 41,
     "metadata": {},
     "output_type": "execute_result"
    }
   ],
   "source": [
    "modelRandom_crossValidation_ch2_f1.mean()\n",
    "modelSVM_crossValidation_ch2_f1.mean()"
   ]
  },
  {
   "cell_type": "code",
   "execution_count": 42,
   "metadata": {},
   "outputs": [
    {
     "data": {
      "text/plain": [
       "1.0"
      ]
     },
     "execution_count": 42,
     "metadata": {},
     "output_type": "execute_result"
    },
    {
     "data": {
      "text/plain": [
       "1.0"
      ]
     },
     "execution_count": 42,
     "metadata": {},
     "output_type": "execute_result"
    }
   ],
   "source": [
    "modelRandom_crossValidation_mutual_accuracy.mean()\n",
    "modelSVM_crossValidation_mutual_accuracy.mean()"
   ]
  },
  {
   "cell_type": "code",
   "execution_count": 43,
   "metadata": {},
   "outputs": [
    {
     "data": {
      "text/plain": [
       "1.0"
      ]
     },
     "execution_count": 43,
     "metadata": {},
     "output_type": "execute_result"
    },
    {
     "data": {
      "text/plain": [
       "1.0"
      ]
     },
     "execution_count": 43,
     "metadata": {},
     "output_type": "execute_result"
    }
   ],
   "source": [
    "modelRandom_crossValidation_mutual_f1.mean()\n",
    "modelSVM_crossValidation_mutual_f1.mean()"
   ]
  },
  {
   "cell_type": "code",
   "execution_count": 44,
   "metadata": {},
   "outputs": [],
   "source": [
    "# modelNaive_crossValidation.mean()"
   ]
  },
  {
   "cell_type": "code",
   "execution_count": 45,
   "metadata": {},
   "outputs": [
    {
     "name": "stderr",
     "output_type": "stream",
     "text": [
      "/anaconda3/lib/python3.7/site-packages/sklearn/ensemble/forest.py:246: FutureWarning: The default value of n_estimators will change from 10 in version 0.20 to 100 in 0.22.\n",
      "  \"10 in version 0.20 to 100 in 0.22.\", FutureWarning)\n"
     ]
    },
    {
     "data": {
      "text/plain": [
       "RandomForestClassifier(bootstrap=True, class_weight=None, criterion='gini',\n",
       "            max_depth=None, max_features='auto', max_leaf_nodes=None,\n",
       "            min_impurity_decrease=0.0, min_impurity_split=None,\n",
       "            min_samples_leaf=1, min_samples_split=2,\n",
       "            min_weight_fraction_leaf=0.0, n_estimators=10, n_jobs=None,\n",
       "            oob_score=False, random_state=None, verbose=0,\n",
       "            warm_start=False)"
      ]
     },
     "execution_count": 45,
     "metadata": {},
     "output_type": "execute_result"
    },
    {
     "data": {
      "text/plain": [
       "RandomForestClassifier(bootstrap=True, class_weight=None, criterion='gini',\n",
       "            max_depth=None, max_features='auto', max_leaf_nodes=None,\n",
       "            min_impurity_decrease=0.0, min_impurity_split=None,\n",
       "            min_samples_leaf=1, min_samples_split=2,\n",
       "            min_weight_fraction_leaf=0.0, n_estimators=10, n_jobs=None,\n",
       "            oob_score=False, random_state=None, verbose=0,\n",
       "            warm_start=False)"
      ]
     },
     "execution_count": 45,
     "metadata": {},
     "output_type": "execute_result"
    }
   ],
   "source": [
    "### Fitting random forest model \n",
    "# modelRandom.fit(x_traintfidf, train_y)\n",
    "modelRandom.fit(ch2_X_train, train_y)\n",
    "modelRandom.fit(mutual_X_train, train_y)"
   ]
  },
  {
   "cell_type": "code",
   "execution_count": 46,
   "metadata": {},
   "outputs": [
    {
     "data": {
      "text/plain": [
       "SVC(C=1.0, cache_size=200, class_weight=None, coef0=0.0,\n",
       "  decision_function_shape='ovr', degree=3, gamma='auto_deprecated',\n",
       "  kernel='linear', max_iter=-1, probability=False, random_state=None,\n",
       "  shrinking=True, tol=0.001, verbose=False)"
      ]
     },
     "execution_count": 46,
     "metadata": {},
     "output_type": "execute_result"
    }
   ],
   "source": [
    "### Fitting SVM model \n",
    "\n",
    "# modelSVM.fit(x_traintfidf, train_y)\n",
    "# modelSVM.fit(ch2_X_train, train_y)\n",
    "modelSVM.fit(mutual_X_train, train_y)"
   ]
  },
  {
   "cell_type": "code",
   "execution_count": 47,
   "metadata": {},
   "outputs": [],
   "source": [
    "file_path = \"/Users/tejasvibelsare/Documents/Twitter10K.xlsx\"\n",
    "test = pd.read_excel(file_path, sheet_name='Sheet1',usecols = \"B\")"
   ]
  },
  {
   "cell_type": "code",
   "execution_count": 48,
   "metadata": {},
   "outputs": [
    {
     "data": {
      "text/plain": [
       "4799"
      ]
     },
     "execution_count": 48,
     "metadata": {},
     "output_type": "execute_result"
    }
   ],
   "source": [
    "file_path = \"/Users/tejasvibelsare/Documents/Twitter10K.xlsx\"\n",
    "classified_by_crimson= pd.read_excel(file_path, sheet_name='Sheet1',usecols = \"L\")\n",
    "classified = classified_by_crimson[\"classified\"]\n",
    "len(classified)"
   ]
  },
  {
   "cell_type": "code",
   "execution_count": 49,
   "metadata": {},
   "outputs": [
    {
     "data": {
      "text/html": [
       "<div>\n",
       "<style scoped>\n",
       "    .dataframe tbody tr th:only-of-type {\n",
       "        vertical-align: middle;\n",
       "    }\n",
       "\n",
       "    .dataframe tbody tr th {\n",
       "        vertical-align: top;\n",
       "    }\n",
       "\n",
       "    .dataframe thead th {\n",
       "        text-align: right;\n",
       "    }\n",
       "</style>\n",
       "<table border=\"1\" class=\"dataframe\">\n",
       "  <thead>\n",
       "    <tr style=\"text-align: right;\">\n",
       "      <th></th>\n",
       "      <th>Contents</th>\n",
       "    </tr>\n",
       "  </thead>\n",
       "  <tbody>\n",
       "    <tr>\n",
       "      <th>0</th>\n",
       "      <td>So I'm finally feeling better, just have a bad...</td>\n",
       "    </tr>\n",
       "    <tr>\n",
       "      <th>1</th>\n",
       "      <td>I have pink eye in both eyes...this blows</td>\n",
       "    </tr>\n",
       "    <tr>\n",
       "      <th>2</th>\n",
       "      <td>Some girl had pink-eye in my school today, and...</td>\n",
       "    </tr>\n",
       "    <tr>\n",
       "      <th>3</th>\n",
       "      <td>I bet people think I'm high but I actually jus...</td>\n",
       "    </tr>\n",
       "    <tr>\n",
       "      <th>4</th>\n",
       "      <td>@150CENTIMETRES hahahahaha me too, i got an mc...</td>\n",
       "    </tr>\n",
       "  </tbody>\n",
       "</table>\n",
       "</div>"
      ],
      "text/plain": [
       "                                            Contents\n",
       "0  So I'm finally feeling better, just have a bad...\n",
       "1          I have pink eye in both eyes...this blows\n",
       "2  Some girl had pink-eye in my school today, and...\n",
       "3  I bet people think I'm high but I actually jus...\n",
       "4  @150CENTIMETRES hahahahaha me too, i got an mc..."
      ]
     },
     "execution_count": 49,
     "metadata": {},
     "output_type": "execute_result"
    },
    {
     "data": {
      "text/plain": [
       "4799"
      ]
     },
     "execution_count": 49,
     "metadata": {},
     "output_type": "execute_result"
    }
   ],
   "source": [
    "test.head()\n",
    "test_x = test[\"Contents\"]\n",
    "len(test[\"Contents\"])\n",
    "# classified_by_crimson = test[\"classified\"]"
   ]
  },
  {
   "cell_type": "code",
   "execution_count": 50,
   "metadata": {},
   "outputs": [
    {
     "data": {
      "text/plain": [
       "0       So I'm finally feeling better, just have a bad...\n",
       "1               I have pink eye in both eyes...this blows\n",
       "2       Some girl had pink-eye in my school today, and...\n",
       "3       I bet people think I'm high but I actually jus...\n",
       "4       @150CENTIMETRES hahahahaha me too, i got an mc...\n",
       "5            I'm pretty sure I have fucking pink eye. FML\n",
       "6       @maggieenglish @emjs44 i would not suggest get...\n",
       "7       I watched the vlog where @rj4gui4r got pink ey...\n",
       "8        @ktrenkema I gots pink eye in both of my eyes ??\n",
       "9       @JDRAMIREZ I just had to put eye allergy drops...\n",
       "10                                  i have an eye allergy\n",
       "11      Conjunctivitis in my eye :(   </3\\n\\n#FML #wor...\n",
       "12      i couldn't go to tennis tryouts bc i have pink...\n",
       "13                                    I have pink eye ugh\n",
       "14      @samanthaleigh_5 ouch. I'm trying to get ready...\n",
       "15               Oh my Lord my eyes itch!!! ?? #allergies\n",
       "16                    My mom mad assl she has pink eye ??\n",
       "17                  Looks like I have pink eye oh my fuck\n",
       "18      Going to the nurse tomorrow I think I have pin...\n",
       "19      i step outside for 2 seconds and my eyes itch ...\n",
       "20                    My Eyes Itch!!!! Fuck You Allergies\n",
       "21            @EmilyRouani ??? he told me i have pink eye\n",
       "22      @DShuman32 I do have pink eye! ?? I'm just hop...\n",
       "23                I hate my allergies my eyes itch so bad\n",
       "24      Coco crisp is out due to pink eye in both eyes...\n",
       "25      What a Day! Been taking care of my Dad, he got...\n",
       "26      This eye allergy is getting on my nerves reall...\n",
       "27      I had a runny nose and watery eyes at work bec...\n",
       "28      Okay so I've got conjunctivitis &it looks like...\n",
       "29      I have conjunctivitis but can't afford eye dro...\n",
       "                              ...                        \n",
       "4769             my eyes itch !! i need allergy eye drops\n",
       "4770    I can't stop sneezing and itching my eyes. I H...\n",
       "4771                         I. Hate. Pink Eye. #noschool\n",
       "4772    Eyes watering, itching, nose running, sneezing...\n",
       "4773              I fucking hate pink eye #sogross #whyme\n",
       "4774                               I hate pink eye. #wahh\n",
       "4775       My nose and eyes are fuckin itching #allergies\n",
       "4776    these allergies bout to kick my ass, eyes alre...\n",
       "4777                  pretty sure I have fucking pink eye\n",
       "4778    Gaaaahhhhhh My Eyes Are Itching, Nose Is Tingl...\n",
       "4779                                I have pink eye. ugh.\n",
       "4780    I hate my allergies puffy ass eyes always itch...\n",
       "4781             My allergies are bad. Eyes Hella itching\n",
       "4782    I hate pink eye. I hate pink eye. I hate pink ...\n",
       "4783                        i hate pink eye #seriouslybro\n",
       "4784       My nose is running and my eyes itch #allergies\n",
       "4785                           Ugh I hate having pink eye\n",
       "4786                MY ALLERGIES DRAWLING EYE ALL ITCHING\n",
       "4787    Since I lost my allergy pills, my eyes itch an...\n",
       "4788               I hate allergies! My eyes itch so bad!\n",
       "4789                    Fuck allergies my eye itch so bad\n",
       "4790                My eyes itch I hate allergies so much\n",
       "4791                   Pretty sure I have pink eye. Fuck.\n",
       "4792                                I have pink eye. Ugh.\n",
       "4793    Ugh, i hate allergies. My eyes itch like crazy :/\n",
       "4794             Stupid allergies!! Make my eyes itch >.<\n",
       "4795    My eyes keep itching my allergies acting up ??...\n",
       "4796                                  Ugh I have pink eye\n",
       "4797                nooooooo, now my eyes itch #allergies\n",
       "4798          Fuck these allergies my eyes itch so bad!!!\n",
       "Name: Contents, Length: 4799, dtype: object"
      ]
     },
     "execution_count": 50,
     "metadata": {},
     "output_type": "execute_result"
    }
   ],
   "source": [
    "test_x"
   ]
  },
  {
   "cell_type": "code",
   "execution_count": 51,
   "metadata": {},
   "outputs": [],
   "source": [
    "# randomModel1 = TfidfVectorizer()"
   ]
  },
  {
   "cell_type": "code",
   "execution_count": 52,
   "metadata": {},
   "outputs": [
    {
     "data": {
      "text/plain": [
       "2"
      ]
     },
     "execution_count": 52,
     "metadata": {},
     "output_type": "execute_result"
    }
   ],
   "source": [
    "x_traintfidf.ndim"
   ]
  },
  {
   "cell_type": "code",
   "execution_count": 53,
   "metadata": {},
   "outputs": [
    {
     "data": {
      "text/plain": [
       "(4799, 55)"
      ]
     },
     "execution_count": 53,
     "metadata": {},
     "output_type": "execute_result"
    }
   ],
   "source": [
    "testtfidf = tfidf.transform(test_x)\n",
    "testtfidf.shape"
   ]
  },
  {
   "cell_type": "code",
   "execution_count": 54,
   "metadata": {},
   "outputs": [
    {
     "data": {
      "text/plain": [
       "2"
      ]
     },
     "execution_count": 54,
     "metadata": {},
     "output_type": "execute_result"
    }
   ],
   "source": [
    "##### Finalizing features of test data\n",
    "\n",
    "# X_test = ch2.transform(testtfidf)\n",
    "\n",
    "X_test = mutual.transform(testtfidf)\n",
    "X_test.ndim"
   ]
  },
  {
   "cell_type": "code",
   "execution_count": 55,
   "metadata": {},
   "outputs": [
    {
     "data": {
      "text/plain": [
       "(4799, 3)"
      ]
     },
     "execution_count": 55,
     "metadata": {},
     "output_type": "execute_result"
    }
   ],
   "source": [
    "test_arr = X_test.toarray()\n",
    "test_arr.shape"
   ]
  },
  {
   "cell_type": "code",
   "execution_count": 56,
   "metadata": {},
   "outputs": [],
   "source": [
    "# test_arr.ndim"
   ]
  },
  {
   "cell_type": "code",
   "execution_count": 57,
   "metadata": {},
   "outputs": [],
   "source": [
    "# tfidf1 = TfidfVectorizer(min_df=1,stop_words='english')\n",
    "# # pred = modelRandom.predict(x_testtfidf)"
   ]
  },
  {
   "cell_type": "code",
   "execution_count": 58,
   "metadata": {},
   "outputs": [],
   "source": [
    "# x_testtfidf = tfidf.transform(test_x)\n",
    "# x_testtfidf.shape"
   ]
  },
  {
   "cell_type": "code",
   "execution_count": 59,
   "metadata": {},
   "outputs": [],
   "source": [
    "# test_arr = x_testtfidf.toarray()\n",
    "# test_arr.ndim"
   ]
  },
  {
   "cell_type": "code",
   "execution_count": 60,
   "metadata": {},
   "outputs": [],
   "source": [
    "# modelRandom.fit(x_traintfidf,train_y)\n",
    "# modelSVM.fit(x_traintfidf,train_y)\n"
   ]
  },
  {
   "cell_type": "code",
   "execution_count": 61,
   "metadata": {},
   "outputs": [],
   "source": [
    "pred_random = modelRandom.predict(X_test)"
   ]
  },
  {
   "cell_type": "code",
   "execution_count": 62,
   "metadata": {},
   "outputs": [
    {
     "data": {
      "text/plain": [
       "array([1, 1, 1, ..., 1, 0, 0])"
      ]
     },
     "execution_count": 62,
     "metadata": {},
     "output_type": "execute_result"
    }
   ],
   "source": [
    "pred_random"
   ]
  },
  {
   "cell_type": "code",
   "execution_count": 63,
   "metadata": {},
   "outputs": [],
   "source": [
    "pred_SVM = modelSVM.predict(X_test)"
   ]
  },
  {
   "cell_type": "code",
   "execution_count": 64,
   "metadata": {},
   "outputs": [],
   "source": [
    "random_accuracy = metrics.accuracy_score(classified, pred_random)"
   ]
  },
  {
   "cell_type": "code",
   "execution_count": 65,
   "metadata": {},
   "outputs": [
    {
     "data": {
      "text/plain": [
       "0.9987497395290685"
      ]
     },
     "execution_count": 65,
     "metadata": {},
     "output_type": "execute_result"
    }
   ],
   "source": [
    "random_accuracy"
   ]
  },
  {
   "cell_type": "code",
   "execution_count": 66,
   "metadata": {},
   "outputs": [],
   "source": [
    "SVM_accuracy = metrics.accuracy_score(classified, pred_SVM)"
   ]
  },
  {
   "cell_type": "code",
   "execution_count": 67,
   "metadata": {},
   "outputs": [
    {
     "data": {
      "text/plain": [
       "0.9916649301937904"
      ]
     },
     "execution_count": 67,
     "metadata": {},
     "output_type": "execute_result"
    }
   ],
   "source": [
    "SVM_accuracy"
   ]
  },
  {
   "cell_type": "code",
   "execution_count": 68,
   "metadata": {},
   "outputs": [
    {
     "data": {
      "text/plain": [
       "(0.9950738916256158, 0.9758454106280193, 0.9853658536585366)"
      ]
     },
     "execution_count": 68,
     "metadata": {},
     "output_type": "execute_result"
    }
   ],
   "source": [
    "#####Random\n",
    "precision, recall, F1, _ = list(precision_recall_fscore_support(classified, pred_random, beta=1.0, average=\"binary\"))\n",
    "precision , recall , F1"
   ]
  },
  {
   "cell_type": "code",
   "execution_count": 69,
   "metadata": {},
   "outputs": [
    {
     "data": {
      "text/plain": [
       "(0.8436213991769548, 0.9903381642512077, 0.9111111111111112)"
      ]
     },
     "execution_count": 69,
     "metadata": {},
     "output_type": "execute_result"
    }
   ],
   "source": [
    "#####SVM\n",
    "precision, recall, F1, _ = list(precision_recall_fscore_support(classified, pred_SVM, beta=1.0, average=\"binary\"))\n",
    "precision , recall , F1"
   ]
  },
  {
   "cell_type": "code",
   "execution_count": 70,
   "metadata": {},
   "outputs": [],
   "source": [
    "# #####Naive\n",
    "# precision, recall, F1, _ = list(precision_recall_fscore_support(classified, pred_naive, beta=1.0, average=\"binary\"))\n",
    "# precision , recall , F1"
   ]
  },
  {
   "cell_type": "code",
   "execution_count": 71,
   "metadata": {},
   "outputs": [
    {
     "data": {
      "text/plain": [
       "'My allergies killin my widdle eyes ??'"
      ]
     },
     "execution_count": 71,
     "metadata": {},
     "output_type": "execute_result"
    }
   ],
   "source": [
    "train_x[0]\n"
   ]
  },
  {
   "cell_type": "code",
   "execution_count": null,
   "metadata": {},
   "outputs": [],
   "source": []
  },
  {
   "cell_type": "code",
   "execution_count": null,
   "metadata": {},
   "outputs": [],
   "source": []
  }
 ],
 "metadata": {
  "kernelspec": {
   "display_name": "Python 3",
   "language": "python",
   "name": "python3"
  },
  "language_info": {
   "codemirror_mode": {
    "name": "ipython",
    "version": 3
   },
   "file_extension": ".py",
   "mimetype": "text/x-python",
   "name": "python",
   "nbconvert_exporter": "python",
   "pygments_lexer": "ipython3",
   "version": "3.7.1"
  }
 },
 "nbformat": 4,
 "nbformat_minor": 2
}
