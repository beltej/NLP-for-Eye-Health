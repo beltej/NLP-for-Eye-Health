{
 "cells": [
  {
   "cell_type": "code",
   "execution_count": 1,
   "metadata": {},
   "outputs": [],
   "source": [
    "import pandas as pd\n",
    "import numpy as np\n",
    "from sklearn.feature_extraction.text import TfidfVectorizer\n",
    "from sklearn.feature_selection import SelectKBest, chi2, mutual_info_classif\n",
    "from sklearn import svm\n",
    "from sklearn.model_selection import cross_val_score\n",
    "from sklearn.feature_extraction import text \n",
    "from sklearn.metrics import precision_recall_fscore_support\n",
    "from sklearn import metrics"
   ]
  },
  {
   "cell_type": "code",
   "execution_count": 2,
   "metadata": {},
   "outputs": [],
   "source": [
    "# import sys\n",
    "# !conda install --yes --prefix {sys.prefix} numpy\n",
    "# !conda install --yes --prefix {sys.prefix} scikit-learn\n",
    "# !conda install --yes --prefix {sys.prefix} sklearn"
   ]
  },
  {
   "cell_type": "code",
   "execution_count": 3,
   "metadata": {},
   "outputs": [],
   "source": [
    "##### to print multiple outputs from same cell\n",
    "from IPython.core.interactiveshell import InteractiveShell\n",
    "InteractiveShell.ast_node_interactivity = \"all\""
   ]
  },
  {
   "cell_type": "code",
   "execution_count": 4,
   "metadata": {},
   "outputs": [],
   "source": [
    "file_path = \"/Users/tejasvibelsare/Documents/New_gold.xlsx\"\n",
    "train = pd.read_excel(file_path, sheet_name='Sheet1',usecols = \"B,H\")"
   ]
  },
  {
   "cell_type": "code",
   "execution_count": 5,
   "metadata": {},
   "outputs": [
    {
     "data": {
      "text/plain": [
       "86"
      ]
     },
     "execution_count": 5,
     "metadata": {},
     "output_type": "execute_result"
    }
   ],
   "source": [
    "len(train)"
   ]
  },
  {
   "cell_type": "code",
   "execution_count": 6,
   "metadata": {},
   "outputs": [
    {
     "data": {
      "text/plain": [
       "Index(['Contents', 'category'], dtype='object')"
      ]
     },
     "execution_count": 6,
     "metadata": {},
     "output_type": "execute_result"
    }
   ],
   "source": [
    "train.columns"
   ]
  },
  {
   "cell_type": "code",
   "execution_count": 7,
   "metadata": {},
   "outputs": [
    {
     "data": {
      "text/plain": [
       "45"
      ]
     },
     "execution_count": 7,
     "metadata": {},
     "output_type": "execute_result"
    }
   ],
   "source": [
    "len(train[train.category == 'allergic'])"
   ]
  },
  {
   "cell_type": "code",
   "execution_count": 8,
   "metadata": {},
   "outputs": [
    {
     "data": {
      "text/plain": [
       "41"
      ]
     },
     "execution_count": 8,
     "metadata": {},
     "output_type": "execute_result"
    }
   ],
   "source": [
    "len(train[train.category == 'infectious'])"
   ]
  },
  {
   "cell_type": "code",
   "execution_count": 9,
   "metadata": {
    "scrolled": true
   },
   "outputs": [
    {
     "data": {
      "text/html": [
       "<div>\n",
       "<style scoped>\n",
       "    .dataframe tbody tr th:only-of-type {\n",
       "        vertical-align: middle;\n",
       "    }\n",
       "\n",
       "    .dataframe tbody tr th {\n",
       "        vertical-align: top;\n",
       "    }\n",
       "\n",
       "    .dataframe thead th {\n",
       "        text-align: right;\n",
       "    }\n",
       "</style>\n",
       "<table border=\"1\" class=\"dataframe\">\n",
       "  <thead>\n",
       "    <tr style=\"text-align: right;\">\n",
       "      <th></th>\n",
       "      <th>Contents</th>\n",
       "      <th>category</th>\n",
       "    </tr>\n",
       "  </thead>\n",
       "  <tbody>\n",
       "    <tr>\n",
       "      <th>0</th>\n",
       "      <td>My allergies killin my widdle eyes ??</td>\n",
       "      <td>allergic</td>\n",
       "    </tr>\n",
       "    <tr>\n",
       "      <th>1</th>\n",
       "      <td>Well think I woke up today with pink eye smh...</td>\n",
       "      <td>infectious</td>\n",
       "    </tr>\n",
       "    <tr>\n",
       "      <th>2</th>\n",
       "      <td>Seriously fuck allergies my eyes hurt and itch...</td>\n",
       "      <td>allergic</td>\n",
       "    </tr>\n",
       "    <tr>\n",
       "      <th>3</th>\n",
       "      <td>My eye itchin #allergies</td>\n",
       "      <td>allergic</td>\n",
       "    </tr>\n",
       "    <tr>\n",
       "      <th>4</th>\n",
       "      <td>November was hand foot and mouth. December is ...</td>\n",
       "      <td>infectious</td>\n",
       "    </tr>\n",
       "  </tbody>\n",
       "</table>\n",
       "</div>"
      ],
      "text/plain": [
       "                                            Contents    category\n",
       "0              My allergies killin my widdle eyes ??    allergic\n",
       "1    Well think I woke up today with pink eye smh...  infectious\n",
       "2  Seriously fuck allergies my eyes hurt and itch...    allergic\n",
       "3                           My eye itchin #allergies    allergic\n",
       "4  November was hand foot and mouth. December is ...  infectious"
      ]
     },
     "execution_count": 9,
     "metadata": {},
     "output_type": "execute_result"
    }
   ],
   "source": [
    "train.head()"
   ]
  },
  {
   "cell_type": "code",
   "execution_count": 10,
   "metadata": {},
   "outputs": [],
   "source": [
    "## to convert all infectious records to 1 and allergic records to 0\n",
    "# train.loc[train[\"category\"]=='infectious',\"category\"]=1\n",
    "# train.loc[train[\"category\"]=='allergic',\"category\"]=0\n",
    "\n",
    "from sklearn import preprocessing\n",
    "\n",
    "encode = preprocessing.LabelEncoder()\n",
    "train['category'] = encode.fit_transform(train['category'])"
   ]
  },
  {
   "cell_type": "code",
   "execution_count": 11,
   "metadata": {},
   "outputs": [
    {
     "data": {
      "text/html": [
       "<div>\n",
       "<style scoped>\n",
       "    .dataframe tbody tr th:only-of-type {\n",
       "        vertical-align: middle;\n",
       "    }\n",
       "\n",
       "    .dataframe tbody tr th {\n",
       "        vertical-align: top;\n",
       "    }\n",
       "\n",
       "    .dataframe thead th {\n",
       "        text-align: right;\n",
       "    }\n",
       "</style>\n",
       "<table border=\"1\" class=\"dataframe\">\n",
       "  <thead>\n",
       "    <tr style=\"text-align: right;\">\n",
       "      <th></th>\n",
       "      <th>Contents</th>\n",
       "      <th>category</th>\n",
       "    </tr>\n",
       "  </thead>\n",
       "  <tbody>\n",
       "    <tr>\n",
       "      <th>0</th>\n",
       "      <td>My allergies killin my widdle eyes ??</td>\n",
       "      <td>0</td>\n",
       "    </tr>\n",
       "    <tr>\n",
       "      <th>1</th>\n",
       "      <td>Well think I woke up today with pink eye smh...</td>\n",
       "      <td>1</td>\n",
       "    </tr>\n",
       "    <tr>\n",
       "      <th>2</th>\n",
       "      <td>Seriously fuck allergies my eyes hurt and itch...</td>\n",
       "      <td>0</td>\n",
       "    </tr>\n",
       "    <tr>\n",
       "      <th>3</th>\n",
       "      <td>My eye itchin #allergies</td>\n",
       "      <td>0</td>\n",
       "    </tr>\n",
       "    <tr>\n",
       "      <th>4</th>\n",
       "      <td>November was hand foot and mouth. December is ...</td>\n",
       "      <td>1</td>\n",
       "    </tr>\n",
       "  </tbody>\n",
       "</table>\n",
       "</div>"
      ],
      "text/plain": [
       "                                            Contents  category\n",
       "0              My allergies killin my widdle eyes ??         0\n",
       "1    Well think I woke up today with pink eye smh...         1\n",
       "2  Seriously fuck allergies my eyes hurt and itch...         0\n",
       "3                           My eye itchin #allergies         0\n",
       "4  November was hand foot and mouth. December is ...         1"
      ]
     },
     "execution_count": 11,
     "metadata": {},
     "output_type": "execute_result"
    }
   ],
   "source": [
    "train.head()"
   ]
  },
  {
   "cell_type": "code",
   "execution_count": 12,
   "metadata": {},
   "outputs": [],
   "source": [
    "train_x = train[\"Contents\"]\n",
    "train_y = train[\"category\"]\n",
    "train_y=train_y.astype('int')\n",
    "# train_y.todense()"
   ]
  },
  {
   "cell_type": "code",
   "execution_count": 13,
   "metadata": {},
   "outputs": [
    {
     "data": {
      "text/plain": [
       "0                 My allergies killin my widdle eyes ??\n",
       "1       Well think I woke up today with pink eye smh...\n",
       "2     Seriously fuck allergies my eyes hurt and itch...\n",
       "3                              My eye itchin #allergies\n",
       "4     November was hand foot and mouth. December is ...\n",
       "5                      Allergies ugh ((MY EYES))!!!!!!!\n",
       "6                                I have pink eye. Cool.\n",
       "7                                   I have pink eye fml\n",
       "8     Know how to feel like a kid again? Get a case ...\n",
       "9                Allergy season??...my eyes itch so bad\n",
       "10                       I woke up with Pink Eye wtffff\n",
       "11                MY ALLERGIES OMG MY EYES I CAN'T DEAL\n",
       "12    I have pink eye and a kid threw a pencil at me...\n",
       "13                      Pretty sure I have pink eye. Tf\n",
       "14    Thanks, Timehop, for reminding me that my kid ...\n",
       "15                         Ironic I would have pink eye\n",
       "16                            That kid gave me pink eye\n",
       "17                         I have pink eye. Awesome. ??\n",
       "18        These Allergies Man ??,My Eyes Itch Like Fuck\n",
       "19    A child just farted longer than a Macy's comme...\n",
       "20             crap I forgot my eye drops =/ #allergies\n",
       "21        My eye is itching, i need my allergy eyedrops\n",
       "22          Stupid allergies. My eye keep watering.. \n",
       "23    I'm not used to having allergies. My throat is...\n",
       "24                         God my eyes itch F ALLERGIES\n",
       "25               My eyes itch badly. Stinking allergies\n",
       "26                         My poor baby has pink Eye =(\n",
       "27                       pretty sure i have pink eye ??\n",
       "28                   My eyes hurt. Screw you allergies!\n",
       "29                          Aahhh my eyes ?? #allergies\n",
       "                            ...                        \n",
       "56                        My eyes burnnn!î† #allergies\n",
       "57    I really hope my baby not catching the pink ey...\n",
       "58    my baby got allergies, it's eye water every ti...\n",
       "59    I think my allergies starting to kick in ???? ...\n",
       "60    I would like to thank the child at summer camp...\n",
       "61    My poor little one now has pink eye...if its n...\n",
       "62                    My eye itches! Damn you allergies\n",
       "63    2 babies home with pink eye....ugh.....THANK Y...\n",
       "64                                   I have pink eye :)\n",
       "65    My throat, my eyes, my nose. Screw allergies #...\n",
       "66                   Morning. My kid has pink eye. Yay.\n",
       "67    These allergies have my eyes dry I NEED EYE DROPS\n",
       "68                    At home w baby. He has pink eye??\n",
       "69    Tonight I have one sick kid and one kid with (...\n",
       "70    Fuckkkkk these allergies I'm sneezing & my eye...\n",
       "71                    I seriously have pink eye again..\n",
       "72    So I woke up with pink eye i think this mornin...\n",
       "73    Went outside so my daughter could play... Nose...\n",
       "74                               My nose & eyes itching\n",
       "75    Could you NOT give my kid high five when you h...\n",
       "76                        Sike I have pink eye fml ????\n",
       "77                Damn allergy shots! Now my eyes itch!\n",
       "78        My eyes won't stop watering!!!! #allergies ??\n",
       "79                   My allergies got my eyes puffy smh\n",
       "80    Why every time black ppl have to take their ki...\n",
       "81             My eyes are itching freakin allergies ??\n",
       "82    @FOX19Kara haha, I wish! But, not sure I could...\n",
       "83    My allergies have my eyes itching something crazy\n",
       "84    Earlier this wk it was both kids w/pink eye. T...\n",
       "85             My eyes itching so bad ?? damn allergies\n",
       "Name: Contents, Length: 86, dtype: object"
      ]
     },
     "execution_count": 13,
     "metadata": {},
     "output_type": "execute_result"
    }
   ],
   "source": [
    "train_x"
   ]
  },
  {
   "cell_type": "code",
   "execution_count": 14,
   "metadata": {},
   "outputs": [],
   "source": [
    "tfidf = TfidfVectorizer(min_df=2,stop_words='english')"
   ]
  },
  {
   "cell_type": "code",
   "execution_count": 15,
   "metadata": {},
   "outputs": [
    {
     "data": {
      "text/plain": [
       "318"
      ]
     },
     "execution_count": 15,
     "metadata": {},
     "output_type": "execute_result"
    }
   ],
   "source": [
    "stop_words = text.ENGLISH_STOP_WORDS\n",
    "len(stop_words)"
   ]
  },
  {
   "cell_type": "code",
   "execution_count": 16,
   "metadata": {},
   "outputs": [
    {
     "data": {
      "text/plain": [
       "frozenset({'a',\n",
       "           'about',\n",
       "           'above',\n",
       "           'across',\n",
       "           'after',\n",
       "           'afterwards',\n",
       "           'again',\n",
       "           'against',\n",
       "           'all',\n",
       "           'almost',\n",
       "           'alone',\n",
       "           'along',\n",
       "           'already',\n",
       "           'also',\n",
       "           'although',\n",
       "           'always',\n",
       "           'am',\n",
       "           'among',\n",
       "           'amongst',\n",
       "           'amoungst',\n",
       "           'amount',\n",
       "           'an',\n",
       "           'and',\n",
       "           'another',\n",
       "           'any',\n",
       "           'anyhow',\n",
       "           'anyone',\n",
       "           'anything',\n",
       "           'anyway',\n",
       "           'anywhere',\n",
       "           'are',\n",
       "           'around',\n",
       "           'as',\n",
       "           'at',\n",
       "           'back',\n",
       "           'be',\n",
       "           'became',\n",
       "           'because',\n",
       "           'become',\n",
       "           'becomes',\n",
       "           'becoming',\n",
       "           'been',\n",
       "           'before',\n",
       "           'beforehand',\n",
       "           'behind',\n",
       "           'being',\n",
       "           'below',\n",
       "           'beside',\n",
       "           'besides',\n",
       "           'between',\n",
       "           'beyond',\n",
       "           'bill',\n",
       "           'both',\n",
       "           'bottom',\n",
       "           'but',\n",
       "           'by',\n",
       "           'call',\n",
       "           'can',\n",
       "           'cannot',\n",
       "           'cant',\n",
       "           'co',\n",
       "           'con',\n",
       "           'could',\n",
       "           'couldnt',\n",
       "           'cry',\n",
       "           'de',\n",
       "           'describe',\n",
       "           'detail',\n",
       "           'do',\n",
       "           'done',\n",
       "           'down',\n",
       "           'due',\n",
       "           'during',\n",
       "           'each',\n",
       "           'eg',\n",
       "           'eight',\n",
       "           'either',\n",
       "           'eleven',\n",
       "           'else',\n",
       "           'elsewhere',\n",
       "           'empty',\n",
       "           'enough',\n",
       "           'etc',\n",
       "           'even',\n",
       "           'ever',\n",
       "           'every',\n",
       "           'everyone',\n",
       "           'everything',\n",
       "           'everywhere',\n",
       "           'except',\n",
       "           'few',\n",
       "           'fifteen',\n",
       "           'fifty',\n",
       "           'fill',\n",
       "           'find',\n",
       "           'fire',\n",
       "           'first',\n",
       "           'five',\n",
       "           'for',\n",
       "           'former',\n",
       "           'formerly',\n",
       "           'forty',\n",
       "           'found',\n",
       "           'four',\n",
       "           'from',\n",
       "           'front',\n",
       "           'full',\n",
       "           'further',\n",
       "           'get',\n",
       "           'give',\n",
       "           'go',\n",
       "           'had',\n",
       "           'has',\n",
       "           'hasnt',\n",
       "           'have',\n",
       "           'he',\n",
       "           'hence',\n",
       "           'her',\n",
       "           'here',\n",
       "           'hereafter',\n",
       "           'hereby',\n",
       "           'herein',\n",
       "           'hereupon',\n",
       "           'hers',\n",
       "           'herself',\n",
       "           'him',\n",
       "           'himself',\n",
       "           'his',\n",
       "           'how',\n",
       "           'however',\n",
       "           'hundred',\n",
       "           'i',\n",
       "           'ie',\n",
       "           'if',\n",
       "           'in',\n",
       "           'inc',\n",
       "           'indeed',\n",
       "           'interest',\n",
       "           'into',\n",
       "           'is',\n",
       "           'it',\n",
       "           'its',\n",
       "           'itself',\n",
       "           'keep',\n",
       "           'last',\n",
       "           'latter',\n",
       "           'latterly',\n",
       "           'least',\n",
       "           'less',\n",
       "           'ltd',\n",
       "           'made',\n",
       "           'many',\n",
       "           'may',\n",
       "           'me',\n",
       "           'meanwhile',\n",
       "           'might',\n",
       "           'mill',\n",
       "           'mine',\n",
       "           'more',\n",
       "           'moreover',\n",
       "           'most',\n",
       "           'mostly',\n",
       "           'move',\n",
       "           'much',\n",
       "           'must',\n",
       "           'my',\n",
       "           'myself',\n",
       "           'name',\n",
       "           'namely',\n",
       "           'neither',\n",
       "           'never',\n",
       "           'nevertheless',\n",
       "           'next',\n",
       "           'nine',\n",
       "           'no',\n",
       "           'nobody',\n",
       "           'none',\n",
       "           'noone',\n",
       "           'nor',\n",
       "           'not',\n",
       "           'nothing',\n",
       "           'now',\n",
       "           'nowhere',\n",
       "           'of',\n",
       "           'off',\n",
       "           'often',\n",
       "           'on',\n",
       "           'once',\n",
       "           'one',\n",
       "           'only',\n",
       "           'onto',\n",
       "           'or',\n",
       "           'other',\n",
       "           'others',\n",
       "           'otherwise',\n",
       "           'our',\n",
       "           'ours',\n",
       "           'ourselves',\n",
       "           'out',\n",
       "           'over',\n",
       "           'own',\n",
       "           'part',\n",
       "           'per',\n",
       "           'perhaps',\n",
       "           'please',\n",
       "           'put',\n",
       "           'rather',\n",
       "           're',\n",
       "           'same',\n",
       "           'see',\n",
       "           'seem',\n",
       "           'seemed',\n",
       "           'seeming',\n",
       "           'seems',\n",
       "           'serious',\n",
       "           'several',\n",
       "           'she',\n",
       "           'should',\n",
       "           'show',\n",
       "           'side',\n",
       "           'since',\n",
       "           'sincere',\n",
       "           'six',\n",
       "           'sixty',\n",
       "           'so',\n",
       "           'some',\n",
       "           'somehow',\n",
       "           'someone',\n",
       "           'something',\n",
       "           'sometime',\n",
       "           'sometimes',\n",
       "           'somewhere',\n",
       "           'still',\n",
       "           'such',\n",
       "           'system',\n",
       "           'take',\n",
       "           'ten',\n",
       "           'than',\n",
       "           'that',\n",
       "           'the',\n",
       "           'their',\n",
       "           'them',\n",
       "           'themselves',\n",
       "           'then',\n",
       "           'thence',\n",
       "           'there',\n",
       "           'thereafter',\n",
       "           'thereby',\n",
       "           'therefore',\n",
       "           'therein',\n",
       "           'thereupon',\n",
       "           'these',\n",
       "           'they',\n",
       "           'thick',\n",
       "           'thin',\n",
       "           'third',\n",
       "           'this',\n",
       "           'those',\n",
       "           'though',\n",
       "           'three',\n",
       "           'through',\n",
       "           'throughout',\n",
       "           'thru',\n",
       "           'thus',\n",
       "           'to',\n",
       "           'together',\n",
       "           'too',\n",
       "           'top',\n",
       "           'toward',\n",
       "           'towards',\n",
       "           'twelve',\n",
       "           'twenty',\n",
       "           'two',\n",
       "           'un',\n",
       "           'under',\n",
       "           'until',\n",
       "           'up',\n",
       "           'upon',\n",
       "           'us',\n",
       "           'very',\n",
       "           'via',\n",
       "           'was',\n",
       "           'we',\n",
       "           'well',\n",
       "           'were',\n",
       "           'what',\n",
       "           'whatever',\n",
       "           'when',\n",
       "           'whence',\n",
       "           'whenever',\n",
       "           'where',\n",
       "           'whereafter',\n",
       "           'whereas',\n",
       "           'whereby',\n",
       "           'wherein',\n",
       "           'whereupon',\n",
       "           'wherever',\n",
       "           'whether',\n",
       "           'which',\n",
       "           'while',\n",
       "           'whither',\n",
       "           'who',\n",
       "           'whoever',\n",
       "           'whole',\n",
       "           'whom',\n",
       "           'whose',\n",
       "           'why',\n",
       "           'will',\n",
       "           'with',\n",
       "           'within',\n",
       "           'without',\n",
       "           'would',\n",
       "           'yet',\n",
       "           'you',\n",
       "           'your',\n",
       "           'yours',\n",
       "           'yourself',\n",
       "           'yourselves'})"
      ]
     },
     "execution_count": 16,
     "metadata": {},
     "output_type": "execute_result"
    }
   ],
   "source": [
    "stop_words"
   ]
  },
  {
   "cell_type": "code",
   "execution_count": 17,
   "metadata": {},
   "outputs": [
    {
     "data": {
      "text/plain": [
       "2"
      ]
     },
     "execution_count": 17,
     "metadata": {},
     "output_type": "execute_result"
    },
    {
     "data": {
      "text/plain": [
       "scipy.sparse.csr.csr_matrix"
      ]
     },
     "execution_count": 17,
     "metadata": {},
     "output_type": "execute_result"
    }
   ],
   "source": [
    "# x_traintfidf = tfidf.fit_transform(x_train)\n",
    "x_traintfidf = tfidf.fit_transform(train_x)\n",
    "x_traintfidf.ndim\n",
    "type(x_traintfidf)\n"
   ]
  },
  {
   "cell_type": "code",
   "execution_count": 18,
   "metadata": {},
   "outputs": [
    {
     "data": {
      "text/plain": [
       "55"
      ]
     },
     "execution_count": 18,
     "metadata": {},
     "output_type": "execute_result"
    },
    {
     "data": {
      "text/plain": [
       "list"
      ]
     },
     "execution_count": 18,
     "metadata": {},
     "output_type": "execute_result"
    },
    {
     "data": {
      "text/html": [
       "<div>\n",
       "<style scoped>\n",
       "    .dataframe tbody tr th:only-of-type {\n",
       "        vertical-align: middle;\n",
       "    }\n",
       "\n",
       "    .dataframe tbody tr th {\n",
       "        vertical-align: top;\n",
       "    }\n",
       "\n",
       "    .dataframe thead th {\n",
       "        text-align: right;\n",
       "    }\n",
       "</style>\n",
       "<table border=\"1\" class=\"dataframe\">\n",
       "  <thead>\n",
       "    <tr style=\"text-align: right;\">\n",
       "      <th></th>\n",
       "      <th>Contents</th>\n",
       "      <th>category</th>\n",
       "      <th>features</th>\n",
       "    </tr>\n",
       "  </thead>\n",
       "  <tbody>\n",
       "    <tr>\n",
       "      <th>0</th>\n",
       "      <td>My allergies killin my widdle eyes ??</td>\n",
       "      <td>0</td>\n",
       "      <td>[0.7020298442682317, 0.0, 0.0, 0.0, 0.0, 0.0, ...</td>\n",
       "    </tr>\n",
       "    <tr>\n",
       "      <th>1</th>\n",
       "      <td>Well think I woke up today with pink eye smh...</td>\n",
       "      <td>1</td>\n",
       "      <td>[0.0, 0.0, 0.0, 0.0, 0.0, 0.0, 0.0, 0.0, 0.0, ...</td>\n",
       "    </tr>\n",
       "    <tr>\n",
       "      <th>2</th>\n",
       "      <td>Seriously fuck allergies my eyes hurt and itch...</td>\n",
       "      <td>0</td>\n",
       "      <td>[0.19065492203115716, 0.0, 0.0, 0.407943221622...</td>\n",
       "    </tr>\n",
       "    <tr>\n",
       "      <th>3</th>\n",
       "      <td>My eye itchin #allergies</td>\n",
       "      <td>0</td>\n",
       "      <td>[0.7655598000081454, 0.0, 0.0, 0.0, 0.0, 0.0, ...</td>\n",
       "    </tr>\n",
       "    <tr>\n",
       "      <th>4</th>\n",
       "      <td>November was hand foot and mouth. December is ...</td>\n",
       "      <td>1</td>\n",
       "      <td>[0.0, 0.0, 0.0, 0.0, 0.0, 0.0, 0.0, 0.0, 0.0, ...</td>\n",
       "    </tr>\n",
       "    <tr>\n",
       "      <th>5</th>\n",
       "      <td>Allergies ugh ((MY EYES))!!!!!!!</td>\n",
       "      <td>0</td>\n",
       "      <td>[0.35577218270429944, 0.0, 0.0, 0.0, 0.0, 0.0,...</td>\n",
       "    </tr>\n",
       "    <tr>\n",
       "      <th>6</th>\n",
       "      <td>I have pink eye. Cool.</td>\n",
       "      <td>1</td>\n",
       "      <td>[0.0, 0.0, 0.0, 0.0, 0.0, 0.0, 0.0, 0.0, 0.884...</td>\n",
       "    </tr>\n",
       "    <tr>\n",
       "      <th>7</th>\n",
       "      <td>I have pink eye fml</td>\n",
       "      <td>1</td>\n",
       "      <td>[0.0, 0.0, 0.0, 0.0, 0.0, 0.0, 0.0, 0.0, 0.0, ...</td>\n",
       "    </tr>\n",
       "    <tr>\n",
       "      <th>8</th>\n",
       "      <td>Know how to feel like a kid again? Get a case ...</td>\n",
       "      <td>1</td>\n",
       "      <td>[0.0, 0.0, 0.0, 0.0, 0.0, 0.0, 0.6151106204552...</td>\n",
       "    </tr>\n",
       "    <tr>\n",
       "      <th>9</th>\n",
       "      <td>Allergy season??...my eyes itch so bad</td>\n",
       "      <td>0</td>\n",
       "      <td>[0.0, 0.4686167961676387, 0.0, 0.4918708754032...</td>\n",
       "    </tr>\n",
       "    <tr>\n",
       "      <th>10</th>\n",
       "      <td>I woke up with Pink Eye wtffff</td>\n",
       "      <td>1</td>\n",
       "      <td>[0.0, 0.0, 0.0, 0.0, 0.0, 0.0, 0.0, 0.0, 0.0, ...</td>\n",
       "    </tr>\n",
       "    <tr>\n",
       "      <th>11</th>\n",
       "      <td>MY ALLERGIES OMG MY EYES I CAN'T DEAL</td>\n",
       "      <td>0</td>\n",
       "      <td>[0.7020298442682317, 0.0, 0.0, 0.0, 0.0, 0.0, ...</td>\n",
       "    </tr>\n",
       "    <tr>\n",
       "      <th>12</th>\n",
       "      <td>I have pink eye and a kid threw a pencil at me...</td>\n",
       "      <td>1</td>\n",
       "      <td>[0.0, 0.0, 0.0, 0.0, 0.0, 0.0, 0.0, 0.0, 0.0, ...</td>\n",
       "    </tr>\n",
       "    <tr>\n",
       "      <th>13</th>\n",
       "      <td>Pretty sure I have pink eye. Tf</td>\n",
       "      <td>1</td>\n",
       "      <td>[0.0, 0.0, 0.0, 0.0, 0.0, 0.0, 0.0, 0.0, 0.0, ...</td>\n",
       "    </tr>\n",
       "    <tr>\n",
       "      <th>14</th>\n",
       "      <td>Thanks, Timehop, for reminding me that my kid ...</td>\n",
       "      <td>1</td>\n",
       "      <td>[0.0, 0.0, 0.0, 0.0, 0.0, 0.0, 0.0, 0.0, 0.0, ...</td>\n",
       "    </tr>\n",
       "    <tr>\n",
       "      <th>15</th>\n",
       "      <td>Ironic I would have pink eye</td>\n",
       "      <td>1</td>\n",
       "      <td>[0.0, 0.0, 0.0, 0.0, 0.0, 0.0, 0.0, 0.0, 0.0, ...</td>\n",
       "    </tr>\n",
       "    <tr>\n",
       "      <th>16</th>\n",
       "      <td>That kid gave me pink eye</td>\n",
       "      <td>1</td>\n",
       "      <td>[0.0, 0.0, 0.0, 0.0, 0.0, 0.0, 0.0, 0.0, 0.0, ...</td>\n",
       "    </tr>\n",
       "    <tr>\n",
       "      <th>17</th>\n",
       "      <td>I have pink eye. Awesome. ??</td>\n",
       "      <td>1</td>\n",
       "      <td>[0.0, 0.0, 0.0, 0.0, 0.0, 0.0, 0.0, 0.0, 0.0, ...</td>\n",
       "    </tr>\n",
       "    <tr>\n",
       "      <th>18</th>\n",
       "      <td>These Allergies Man ??,My Eyes Itch Like Fuck</td>\n",
       "      <td>0</td>\n",
       "      <td>[0.24758995071788603, 0.0, 0.0, 0.0, 0.0, 0.0,...</td>\n",
       "    </tr>\n",
       "    <tr>\n",
       "      <th>19</th>\n",
       "      <td>A child just farted longer than a Macy's comme...</td>\n",
       "      <td>1</td>\n",
       "      <td>[0.0, 0.0, 0.0, 0.0, 0.0, 0.0, 0.0, 0.66271970...</td>\n",
       "    </tr>\n",
       "    <tr>\n",
       "      <th>20</th>\n",
       "      <td>crap I forgot my eye drops =/ #allergies</td>\n",
       "      <td>0</td>\n",
       "      <td>[0.363270492083245, 0.0, 0.0, 0.0, 0.0, 0.0, 0...</td>\n",
       "    </tr>\n",
       "    <tr>\n",
       "      <th>21</th>\n",
       "      <td>My eye is itching, i need my allergy eyedrops</td>\n",
       "      <td>0</td>\n",
       "      <td>[0.0, 0.5612302913596737, 0.0, 0.0, 0.0, 0.0, ...</td>\n",
       "    </tr>\n",
       "    <tr>\n",
       "      <th>22</th>\n",
       "      <td>Stupid allergies. My eye keep watering.. </td>\n",
       "      <td>0</td>\n",
       "      <td>[0.42560942867545165, 0.0, 0.0, 0.0, 0.0, 0.0,...</td>\n",
       "    </tr>\n",
       "    <tr>\n",
       "      <th>23</th>\n",
       "      <td>I'm not used to having allergies. My throat is...</td>\n",
       "      <td>0</td>\n",
       "      <td>[0.27148213588600306, 0.0, 0.0, 0.0, 0.0, 0.0,...</td>\n",
       "    </tr>\n",
       "    <tr>\n",
       "      <th>24</th>\n",
       "      <td>God my eyes itch F ALLERGIES</td>\n",
       "      <td>0</td>\n",
       "      <td>[0.43363356546226256, 0.0, 0.0, 0.0, 0.0, 0.0,...</td>\n",
       "    </tr>\n",
       "    <tr>\n",
       "      <th>25</th>\n",
       "      <td>My eyes itch badly. Stinking allergies</td>\n",
       "      <td>0</td>\n",
       "      <td>[0.43363356546226256, 0.0, 0.0, 0.0, 0.0, 0.0,...</td>\n",
       "    </tr>\n",
       "    <tr>\n",
       "      <th>26</th>\n",
       "      <td>My poor baby has pink Eye =(</td>\n",
       "      <td>1</td>\n",
       "      <td>[0.0, 0.0, 0.5598067303234173, 0.0, 0.0, 0.0, ...</td>\n",
       "    </tr>\n",
       "    <tr>\n",
       "      <th>27</th>\n",
       "      <td>pretty sure i have pink eye ??</td>\n",
       "      <td>1</td>\n",
       "      <td>[0.0, 0.0, 0.0, 0.0, 0.0, 0.0, 0.0, 0.0, 0.0, ...</td>\n",
       "    </tr>\n",
       "    <tr>\n",
       "      <th>28</th>\n",
       "      <td>My eyes hurt. Screw you allergies!</td>\n",
       "      <td>0</td>\n",
       "      <td>[0.2694642557900358, 0.0, 0.0, 0.0, 0.0, 0.0, ...</td>\n",
       "    </tr>\n",
       "    <tr>\n",
       "      <th>29</th>\n",
       "      <td>Aahhh my eyes ?? #allergies</td>\n",
       "      <td>0</td>\n",
       "      <td>[0.7020298442682317, 0.0, 0.0, 0.0, 0.0, 0.0, ...</td>\n",
       "    </tr>\n",
       "    <tr>\n",
       "      <th>...</th>\n",
       "      <td>...</td>\n",
       "      <td>...</td>\n",
       "      <td>...</td>\n",
       "    </tr>\n",
       "    <tr>\n",
       "      <th>56</th>\n",
       "      <td>My eyes burnnn!î† #allergies</td>\n",
       "      <td>0</td>\n",
       "      <td>[0.7020298442682317, 0.0, 0.0, 0.0, 0.0, 0.0, ...</td>\n",
       "    </tr>\n",
       "    <tr>\n",
       "      <th>57</th>\n",
       "      <td>I really hope my baby not catching the pink ey...</td>\n",
       "      <td>1</td>\n",
       "      <td>[0.0, 0.0, 0.8090464813947413, 0.0, 0.0, 0.0, ...</td>\n",
       "    </tr>\n",
       "    <tr>\n",
       "      <th>58</th>\n",
       "      <td>my baby got allergies, it's eye water every ti...</td>\n",
       "      <td>0</td>\n",
       "      <td>[0.23233523181224924, 0.0, 0.4077747534491862,...</td>\n",
       "    </tr>\n",
       "    <tr>\n",
       "      <th>59</th>\n",
       "      <td>I think my allergies starting to kick in ???? ...</td>\n",
       "      <td>0</td>\n",
       "      <td>[0.2865932818879418, 0.0, 0.0, 0.0, 0.0, 0.0, ...</td>\n",
       "    </tr>\n",
       "    <tr>\n",
       "      <th>60</th>\n",
       "      <td>I would like to thank the child at summer camp...</td>\n",
       "      <td>1</td>\n",
       "      <td>[0.0, 0.0, 0.0, 0.0, 0.0, 0.40749948246675893,...</td>\n",
       "    </tr>\n",
       "    <tr>\n",
       "      <th>61</th>\n",
       "      <td>My poor little one now has pink eye...if its n...</td>\n",
       "      <td>1</td>\n",
       "      <td>[0.0, 0.0, 0.0, 0.0, 0.0, 0.0, 0.0, 0.0, 0.0, ...</td>\n",
       "    </tr>\n",
       "    <tr>\n",
       "      <th>62</th>\n",
       "      <td>My eye itches! Damn you allergies</td>\n",
       "      <td>0</td>\n",
       "      <td>[0.39889935930821063, 0.0, 0.0, 0.0, 0.0, 0.0,...</td>\n",
       "    </tr>\n",
       "    <tr>\n",
       "      <th>63</th>\n",
       "      <td>2 babies home with pink eye....ugh.....THANK Y...</td>\n",
       "      <td>1</td>\n",
       "      <td>[0.0, 0.0, 0.0, 0.0, 0.0, 0.0, 0.0, 0.0, 0.0, ...</td>\n",
       "    </tr>\n",
       "    <tr>\n",
       "      <th>64</th>\n",
       "      <td>I have pink eye :)</td>\n",
       "      <td>1</td>\n",
       "      <td>[0.0, 0.0, 0.0, 0.0, 0.0, 0.0, 0.0, 0.0, 0.0, ...</td>\n",
       "    </tr>\n",
       "    <tr>\n",
       "      <th>65</th>\n",
       "      <td>My throat, my eyes, my nose. Screw allergies #...</td>\n",
       "      <td>0</td>\n",
       "      <td>[0.24040708770456126, 0.0, 0.0, 0.0, 0.0, 0.0,...</td>\n",
       "    </tr>\n",
       "    <tr>\n",
       "      <th>66</th>\n",
       "      <td>Morning. My kid has pink eye. Yay.</td>\n",
       "      <td>1</td>\n",
       "      <td>[0.0, 0.0, 0.0, 0.0, 0.0, 0.0, 0.0, 0.0, 0.0, ...</td>\n",
       "    </tr>\n",
       "    <tr>\n",
       "      <th>67</th>\n",
       "      <td>These allergies have my eyes dry I NEED EYE DROPS</td>\n",
       "      <td>0</td>\n",
       "      <td>[0.26280989043656794, 0.0, 0.0, 0.0, 0.0, 0.0,...</td>\n",
       "    </tr>\n",
       "    <tr>\n",
       "      <th>68</th>\n",
       "      <td>At home w baby. He has pink eye??</td>\n",
       "      <td>1</td>\n",
       "      <td>[0.0, 0.0, 0.5598067303234173, 0.0, 0.0, 0.0, ...</td>\n",
       "    </tr>\n",
       "    <tr>\n",
       "      <th>69</th>\n",
       "      <td>Tonight I have one sick kid and one kid with (...</td>\n",
       "      <td>1</td>\n",
       "      <td>[0.0, 0.0, 0.0, 0.0, 0.0, 0.0, 0.4559105061864...</td>\n",
       "    </tr>\n",
       "    <tr>\n",
       "      <th>70</th>\n",
       "      <td>Fuckkkkk these allergies I'm sneezing &amp; my eye...</td>\n",
       "      <td>0</td>\n",
       "      <td>[0.2989464274062343, 0.0, 0.0, 0.0, 0.0, 0.0, ...</td>\n",
       "    </tr>\n",
       "    <tr>\n",
       "      <th>71</th>\n",
       "      <td>I seriously have pink eye again..</td>\n",
       "      <td>1</td>\n",
       "      <td>[0.0, 0.0, 0.0, 0.0, 0.0, 0.0, 0.0, 0.0, 0.0, ...</td>\n",
       "    </tr>\n",
       "    <tr>\n",
       "      <th>72</th>\n",
       "      <td>So I woke up with pink eye i think this mornin...</td>\n",
       "      <td>1</td>\n",
       "      <td>[0.0, 0.0, 0.0, 0.0, 0.0, 0.0, 0.0, 0.0, 0.509...</td>\n",
       "    </tr>\n",
       "    <tr>\n",
       "      <th>73</th>\n",
       "      <td>Went outside so my daughter could play... Nose...</td>\n",
       "      <td>0</td>\n",
       "      <td>[0.0, 0.0, 0.0, 0.0, 0.0, 0.0, 0.0, 0.0, 0.0, ...</td>\n",
       "    </tr>\n",
       "    <tr>\n",
       "      <th>74</th>\n",
       "      <td>My nose &amp; eyes itching</td>\n",
       "      <td>0</td>\n",
       "      <td>[0.0, 0.0, 0.0, 0.0, 0.0, 0.0, 0.0, 0.0, 0.0, ...</td>\n",
       "    </tr>\n",
       "    <tr>\n",
       "      <th>75</th>\n",
       "      <td>Could you NOT give my kid high five when you h...</td>\n",
       "      <td>1</td>\n",
       "      <td>[0.0, 0.0, 0.0, 0.0, 0.0, 0.0, 0.0, 0.0, 0.0, ...</td>\n",
       "    </tr>\n",
       "    <tr>\n",
       "      <th>76</th>\n",
       "      <td>Sike I have pink eye fml ????</td>\n",
       "      <td>1</td>\n",
       "      <td>[0.0, 0.0, 0.0, 0.0, 0.0, 0.0, 0.0, 0.0, 0.0, ...</td>\n",
       "    </tr>\n",
       "    <tr>\n",
       "      <th>77</th>\n",
       "      <td>Damn allergy shots! Now my eyes itch!</td>\n",
       "      <td>0</td>\n",
       "      <td>[0.0, 0.5642609846252626, 0.0, 0.0, 0.0, 0.0, ...</td>\n",
       "    </tr>\n",
       "    <tr>\n",
       "      <th>78</th>\n",
       "      <td>My eyes won't stop watering!!!! #allergies ??</td>\n",
       "      <td>0</td>\n",
       "      <td>[0.4136870020881421, 0.0, 0.0, 0.0, 0.0, 0.0, ...</td>\n",
       "    </tr>\n",
       "    <tr>\n",
       "      <th>79</th>\n",
       "      <td>My allergies got my eyes puffy smh</td>\n",
       "      <td>0</td>\n",
       "      <td>[0.24210122162268347, 0.0, 0.0, 0.0, 0.0, 0.0,...</td>\n",
       "    </tr>\n",
       "    <tr>\n",
       "      <th>80</th>\n",
       "      <td>Why every time black ppl have to take their ki...</td>\n",
       "      <td>1</td>\n",
       "      <td>[0.0, 0.0, 0.0, 0.0, 0.0, 0.0, 0.0, 0.0, 0.0, ...</td>\n",
       "    </tr>\n",
       "    <tr>\n",
       "      <th>81</th>\n",
       "      <td>My eyes are itching freakin allergies ??</td>\n",
       "      <td>0</td>\n",
       "      <td>[0.47198182568629576, 0.0, 0.0, 0.0, 0.0, 0.0,...</td>\n",
       "    </tr>\n",
       "    <tr>\n",
       "      <th>82</th>\n",
       "      <td>@FOX19Kara haha, I wish! But, not sure I could...</td>\n",
       "      <td>0</td>\n",
       "      <td>[0.2191315564173203, 0.0, 0.0, 0.0, 0.0, 0.0, ...</td>\n",
       "    </tr>\n",
       "    <tr>\n",
       "      <th>83</th>\n",
       "      <td>My allergies have my eyes itching something crazy</td>\n",
       "      <td>0</td>\n",
       "      <td>[0.47198182568629576, 0.0, 0.0, 0.0, 0.0, 0.0,...</td>\n",
       "    </tr>\n",
       "    <tr>\n",
       "      <th>84</th>\n",
       "      <td>Earlier this wk it was both kids w/pink eye. T...</td>\n",
       "      <td>1</td>\n",
       "      <td>[0.0, 0.0, 0.0, 0.0, 0.0, 0.0, 0.0, 0.0, 0.0, ...</td>\n",
       "    </tr>\n",
       "    <tr>\n",
       "      <th>85</th>\n",
       "      <td>My eyes itching so bad ?? damn allergies</td>\n",
       "      <td>0</td>\n",
       "      <td>[0.2707098087765127, 0.0, 0.0, 0.5792361945901...</td>\n",
       "    </tr>\n",
       "  </tbody>\n",
       "</table>\n",
       "<p>86 rows × 3 columns</p>\n",
       "</div>"
      ],
      "text/plain": [
       "                                             Contents  category  \\\n",
       "0               My allergies killin my widdle eyes ??         0   \n",
       "1     Well think I woke up today with pink eye smh...         1   \n",
       "2   Seriously fuck allergies my eyes hurt and itch...         0   \n",
       "3                            My eye itchin #allergies         0   \n",
       "4   November was hand foot and mouth. December is ...         1   \n",
       "5                    Allergies ugh ((MY EYES))!!!!!!!         0   \n",
       "6                              I have pink eye. Cool.         1   \n",
       "7                                 I have pink eye fml         1   \n",
       "8   Know how to feel like a kid again? Get a case ...         1   \n",
       "9              Allergy season??...my eyes itch so bad         0   \n",
       "10                     I woke up with Pink Eye wtffff         1   \n",
       "11              MY ALLERGIES OMG MY EYES I CAN'T DEAL         0   \n",
       "12  I have pink eye and a kid threw a pencil at me...         1   \n",
       "13                    Pretty sure I have pink eye. Tf         1   \n",
       "14  Thanks, Timehop, for reminding me that my kid ...         1   \n",
       "15                       Ironic I would have pink eye         1   \n",
       "16                          That kid gave me pink eye         1   \n",
       "17                       I have pink eye. Awesome. ??         1   \n",
       "18      These Allergies Man ??,My Eyes Itch Like Fuck         0   \n",
       "19  A child just farted longer than a Macy's comme...         1   \n",
       "20           crap I forgot my eye drops =/ #allergies         0   \n",
       "21      My eye is itching, i need my allergy eyedrops         0   \n",
       "22        Stupid allergies. My eye keep watering..          0   \n",
       "23  I'm not used to having allergies. My throat is...         0   \n",
       "24                       God my eyes itch F ALLERGIES         0   \n",
       "25             My eyes itch badly. Stinking allergies         0   \n",
       "26                       My poor baby has pink Eye =(         1   \n",
       "27                     pretty sure i have pink eye ??         1   \n",
       "28                 My eyes hurt. Screw you allergies!         0   \n",
       "29                        Aahhh my eyes ?? #allergies         0   \n",
       "..                                                ...       ...   \n",
       "56                      My eyes burnnn!î† #allergies         0   \n",
       "57  I really hope my baby not catching the pink ey...         1   \n",
       "58  my baby got allergies, it's eye water every ti...         0   \n",
       "59  I think my allergies starting to kick in ???? ...         0   \n",
       "60  I would like to thank the child at summer camp...         1   \n",
       "61  My poor little one now has pink eye...if its n...         1   \n",
       "62                  My eye itches! Damn you allergies         0   \n",
       "63  2 babies home with pink eye....ugh.....THANK Y...         1   \n",
       "64                                 I have pink eye :)         1   \n",
       "65  My throat, my eyes, my nose. Screw allergies #...         0   \n",
       "66                 Morning. My kid has pink eye. Yay.         1   \n",
       "67  These allergies have my eyes dry I NEED EYE DROPS         0   \n",
       "68                  At home w baby. He has pink eye??         1   \n",
       "69  Tonight I have one sick kid and one kid with (...         1   \n",
       "70  Fuckkkkk these allergies I'm sneezing & my eye...         0   \n",
       "71                  I seriously have pink eye again..         1   \n",
       "72  So I woke up with pink eye i think this mornin...         1   \n",
       "73  Went outside so my daughter could play... Nose...         0   \n",
       "74                             My nose & eyes itching         0   \n",
       "75  Could you NOT give my kid high five when you h...         1   \n",
       "76                      Sike I have pink eye fml ????         1   \n",
       "77              Damn allergy shots! Now my eyes itch!         0   \n",
       "78      My eyes won't stop watering!!!! #allergies ??         0   \n",
       "79                 My allergies got my eyes puffy smh         0   \n",
       "80  Why every time black ppl have to take their ki...         1   \n",
       "81           My eyes are itching freakin allergies ??         0   \n",
       "82  @FOX19Kara haha, I wish! But, not sure I could...         0   \n",
       "83  My allergies have my eyes itching something crazy         0   \n",
       "84  Earlier this wk it was both kids w/pink eye. T...         1   \n",
       "85           My eyes itching so bad ?? damn allergies         0   \n",
       "\n",
       "                                             features  \n",
       "0   [0.7020298442682317, 0.0, 0.0, 0.0, 0.0, 0.0, ...  \n",
       "1   [0.0, 0.0, 0.0, 0.0, 0.0, 0.0, 0.0, 0.0, 0.0, ...  \n",
       "2   [0.19065492203115716, 0.0, 0.0, 0.407943221622...  \n",
       "3   [0.7655598000081454, 0.0, 0.0, 0.0, 0.0, 0.0, ...  \n",
       "4   [0.0, 0.0, 0.0, 0.0, 0.0, 0.0, 0.0, 0.0, 0.0, ...  \n",
       "5   [0.35577218270429944, 0.0, 0.0, 0.0, 0.0, 0.0,...  \n",
       "6   [0.0, 0.0, 0.0, 0.0, 0.0, 0.0, 0.0, 0.0, 0.884...  \n",
       "7   [0.0, 0.0, 0.0, 0.0, 0.0, 0.0, 0.0, 0.0, 0.0, ...  \n",
       "8   [0.0, 0.0, 0.0, 0.0, 0.0, 0.0, 0.6151106204552...  \n",
       "9   [0.0, 0.4686167961676387, 0.0, 0.4918708754032...  \n",
       "10  [0.0, 0.0, 0.0, 0.0, 0.0, 0.0, 0.0, 0.0, 0.0, ...  \n",
       "11  [0.7020298442682317, 0.0, 0.0, 0.0, 0.0, 0.0, ...  \n",
       "12  [0.0, 0.0, 0.0, 0.0, 0.0, 0.0, 0.0, 0.0, 0.0, ...  \n",
       "13  [0.0, 0.0, 0.0, 0.0, 0.0, 0.0, 0.0, 0.0, 0.0, ...  \n",
       "14  [0.0, 0.0, 0.0, 0.0, 0.0, 0.0, 0.0, 0.0, 0.0, ...  \n",
       "15  [0.0, 0.0, 0.0, 0.0, 0.0, 0.0, 0.0, 0.0, 0.0, ...  \n",
       "16  [0.0, 0.0, 0.0, 0.0, 0.0, 0.0, 0.0, 0.0, 0.0, ...  \n",
       "17  [0.0, 0.0, 0.0, 0.0, 0.0, 0.0, 0.0, 0.0, 0.0, ...  \n",
       "18  [0.24758995071788603, 0.0, 0.0, 0.0, 0.0, 0.0,...  \n",
       "19  [0.0, 0.0, 0.0, 0.0, 0.0, 0.0, 0.0, 0.66271970...  \n",
       "20  [0.363270492083245, 0.0, 0.0, 0.0, 0.0, 0.0, 0...  \n",
       "21  [0.0, 0.5612302913596737, 0.0, 0.0, 0.0, 0.0, ...  \n",
       "22  [0.42560942867545165, 0.0, 0.0, 0.0, 0.0, 0.0,...  \n",
       "23  [0.27148213588600306, 0.0, 0.0, 0.0, 0.0, 0.0,...  \n",
       "24  [0.43363356546226256, 0.0, 0.0, 0.0, 0.0, 0.0,...  \n",
       "25  [0.43363356546226256, 0.0, 0.0, 0.0, 0.0, 0.0,...  \n",
       "26  [0.0, 0.0, 0.5598067303234173, 0.0, 0.0, 0.0, ...  \n",
       "27  [0.0, 0.0, 0.0, 0.0, 0.0, 0.0, 0.0, 0.0, 0.0, ...  \n",
       "28  [0.2694642557900358, 0.0, 0.0, 0.0, 0.0, 0.0, ...  \n",
       "29  [0.7020298442682317, 0.0, 0.0, 0.0, 0.0, 0.0, ...  \n",
       "..                                                ...  \n",
       "56  [0.7020298442682317, 0.0, 0.0, 0.0, 0.0, 0.0, ...  \n",
       "57  [0.0, 0.0, 0.8090464813947413, 0.0, 0.0, 0.0, ...  \n",
       "58  [0.23233523181224924, 0.0, 0.4077747534491862,...  \n",
       "59  [0.2865932818879418, 0.0, 0.0, 0.0, 0.0, 0.0, ...  \n",
       "60  [0.0, 0.0, 0.0, 0.0, 0.0, 0.40749948246675893,...  \n",
       "61  [0.0, 0.0, 0.0, 0.0, 0.0, 0.0, 0.0, 0.0, 0.0, ...  \n",
       "62  [0.39889935930821063, 0.0, 0.0, 0.0, 0.0, 0.0,...  \n",
       "63  [0.0, 0.0, 0.0, 0.0, 0.0, 0.0, 0.0, 0.0, 0.0, ...  \n",
       "64  [0.0, 0.0, 0.0, 0.0, 0.0, 0.0, 0.0, 0.0, 0.0, ...  \n",
       "65  [0.24040708770456126, 0.0, 0.0, 0.0, 0.0, 0.0,...  \n",
       "66  [0.0, 0.0, 0.0, 0.0, 0.0, 0.0, 0.0, 0.0, 0.0, ...  \n",
       "67  [0.26280989043656794, 0.0, 0.0, 0.0, 0.0, 0.0,...  \n",
       "68  [0.0, 0.0, 0.5598067303234173, 0.0, 0.0, 0.0, ...  \n",
       "69  [0.0, 0.0, 0.0, 0.0, 0.0, 0.0, 0.4559105061864...  \n",
       "70  [0.2989464274062343, 0.0, 0.0, 0.0, 0.0, 0.0, ...  \n",
       "71  [0.0, 0.0, 0.0, 0.0, 0.0, 0.0, 0.0, 0.0, 0.0, ...  \n",
       "72  [0.0, 0.0, 0.0, 0.0, 0.0, 0.0, 0.0, 0.0, 0.509...  \n",
       "73  [0.0, 0.0, 0.0, 0.0, 0.0, 0.0, 0.0, 0.0, 0.0, ...  \n",
       "74  [0.0, 0.0, 0.0, 0.0, 0.0, 0.0, 0.0, 0.0, 0.0, ...  \n",
       "75  [0.0, 0.0, 0.0, 0.0, 0.0, 0.0, 0.0, 0.0, 0.0, ...  \n",
       "76  [0.0, 0.0, 0.0, 0.0, 0.0, 0.0, 0.0, 0.0, 0.0, ...  \n",
       "77  [0.0, 0.5642609846252626, 0.0, 0.0, 0.0, 0.0, ...  \n",
       "78  [0.4136870020881421, 0.0, 0.0, 0.0, 0.0, 0.0, ...  \n",
       "79  [0.24210122162268347, 0.0, 0.0, 0.0, 0.0, 0.0,...  \n",
       "80  [0.0, 0.0, 0.0, 0.0, 0.0, 0.0, 0.0, 0.0, 0.0, ...  \n",
       "81  [0.47198182568629576, 0.0, 0.0, 0.0, 0.0, 0.0,...  \n",
       "82  [0.2191315564173203, 0.0, 0.0, 0.0, 0.0, 0.0, ...  \n",
       "83  [0.47198182568629576, 0.0, 0.0, 0.0, 0.0, 0.0,...  \n",
       "84  [0.0, 0.0, 0.0, 0.0, 0.0, 0.0, 0.0, 0.0, 0.0, ...  \n",
       "85  [0.2707098087765127, 0.0, 0.0, 0.5792361945901...  \n",
       "\n",
       "[86 rows x 3 columns]"
      ]
     },
     "execution_count": 18,
     "metadata": {},
     "output_type": "execute_result"
    }
   ],
   "source": [
    "len(tfidf.get_feature_names())\n",
    "type(tfidf.get_feature_names())\n",
    "\n",
    "train['features'] = list(x_traintfidf.toarray())\n",
    "\n",
    "# train['names'] = []\n",
    "\n",
    "# for i, row in train.iterrows():\n",
    "#     train['names'][i] = tfidf.inverse_transform(x_traintfidf[i])\n",
    "    \n",
    "train\n",
    "    "
   ]
  },
  {
   "cell_type": "code",
   "execution_count": 19,
   "metadata": {},
   "outputs": [
    {
     "data": {
      "text/plain": [
       "array([[0.70202984, 0.        , 0.        , ..., 0.        , 0.        ,\n",
       "        0.        ],\n",
       "       [0.        , 0.        , 0.        , ..., 0.        , 0.48368392,\n",
       "        0.        ],\n",
       "       [0.19065492, 0.        , 0.        , ..., 0.        , 0.        ,\n",
       "        0.        ],\n",
       "       ...,\n",
       "       [0.47198183, 0.        , 0.        , ..., 0.        , 0.        ,\n",
       "        0.        ],\n",
       "       [0.        , 0.        , 0.        , ..., 0.        , 0.        ,\n",
       "        0.        ],\n",
       "       [0.27070981, 0.        , 0.        , ..., 0.        , 0.        ,\n",
       "        0.        ]])"
      ]
     },
     "execution_count": 19,
     "metadata": {},
     "output_type": "execute_result"
    }
   ],
   "source": [
    "x_traintfidf.toarray()"
   ]
  },
  {
   "cell_type": "code",
   "execution_count": 20,
   "metadata": {},
   "outputs": [
    {
     "data": {
      "text/plain": [
       "['allergies',\n",
       " 'allergy',\n",
       " 'baby',\n",
       " 'bad',\n",
       " 'breathe',\n",
       " 'camp',\n",
       " 'case',\n",
       " 'child',\n",
       " 'cool',\n",
       " 'damn',\n",
       " 'drops',\n",
       " 'eye',\n",
       " 'eyes',\n",
       " 'fml',\n",
       " 'fuck',\n",
       " 'gave',\n",
       " 'got',\n",
       " 'home',\n",
       " 'hurt',\n",
       " 'infection',\n",
       " 'itch',\n",
       " 'itching',\n",
       " 'just',\n",
       " 'kid',\n",
       " 'kids',\n",
       " 'like',\n",
       " 'morning',\n",
       " 'need',\n",
       " 'nose',\n",
       " 'outside',\n",
       " 'pink',\n",
       " 'pissed',\n",
       " 'poor',\n",
       " 'pretty',\n",
       " 'puffy',\n",
       " 'screw',\n",
       " 'season',\n",
       " 'seriously',\n",
       " 'smh',\n",
       " 'sneezing',\n",
       " 'son',\n",
       " 'summer',\n",
       " 'sure',\n",
       " 'thank',\n",
       " 'thanks',\n",
       " 'think',\n",
       " 'throat',\n",
       " 'time',\n",
       " 'today',\n",
       " 'tonight',\n",
       " 'ugh',\n",
       " 'viral',\n",
       " 'watering',\n",
       " 'woke',\n",
       " 'wtf']"
      ]
     },
     "execution_count": 20,
     "metadata": {},
     "output_type": "execute_result"
    }
   ],
   "source": [
    "tfidf.get_feature_names()\n",
    "### list of all features\n",
    "\n"
   ]
  },
  {
   "cell_type": "code",
   "execution_count": 21,
   "metadata": {},
   "outputs": [],
   "source": [
    "mutual = SelectKBest(mutual_info_classif, k=50)\n",
    "mutual_X_train = mutual.fit_transform(x_traintfidf, train_y)"
   ]
  },
  {
   "cell_type": "code",
   "execution_count": 22,
   "metadata": {},
   "outputs": [
    {
     "data": {
      "text/plain": [
       "array([[0.70202984, 0.        , 0.        , ..., 0.        , 0.        ,\n",
       "        0.        ],\n",
       "       [0.        , 0.        , 0.        , ..., 0.        , 0.48368392,\n",
       "        0.        ],\n",
       "       [0.19065492, 0.        , 0.        , ..., 0.        , 0.        ,\n",
       "        0.        ],\n",
       "       ...,\n",
       "       [0.47198183, 0.        , 0.        , ..., 0.        , 0.        ,\n",
       "        0.        ],\n",
       "       [0.        , 0.        , 0.        , ..., 0.        , 0.        ,\n",
       "        0.        ],\n",
       "       [0.27070981, 0.        , 0.        , ..., 0.        , 0.        ,\n",
       "        0.        ]])"
      ]
     },
     "execution_count": 22,
     "metadata": {},
     "output_type": "execute_result"
    }
   ],
   "source": [
    "mutual_X_train.toarray()"
   ]
  },
  {
   "cell_type": "code",
   "execution_count": 23,
   "metadata": {},
   "outputs": [
    {
     "data": {
      "text/plain": [
       "'Seriously fuck allergies my eyes hurt and itch so bad! ??'"
      ]
     },
     "execution_count": 23,
     "metadata": {},
     "output_type": "execute_result"
    }
   ],
   "source": [
    "train_x[2]\n",
    "\n"
   ]
  },
  {
   "cell_type": "code",
   "execution_count": 24,
   "metadata": {},
   "outputs": [
    {
     "data": {
      "text/plain": [
       "[array(['allergies', 'eyes', 'seriously', 'fuck', 'hurt', 'itch', 'bad'],\n",
       "       dtype='<U9')]"
      ]
     },
     "execution_count": 24,
     "metadata": {},
     "output_type": "execute_result"
    }
   ],
   "source": [
    "# tfidf.inverse_transform(mutual_X_train[1])\n",
    "tfidf.inverse_transform(x_traintfidf[2])"
   ]
  },
  {
   "cell_type": "code",
   "execution_count": 25,
   "metadata": {},
   "outputs": [
    {
     "data": {
      "text/plain": [
       "2"
      ]
     },
     "execution_count": 25,
     "metadata": {},
     "output_type": "execute_result"
    }
   ],
   "source": [
    "## all training data converted to vectors\n",
    "arr = x_traintfidf.toarray()\n",
    "arr.ndim\n"
   ]
  },
  {
   "cell_type": "code",
   "execution_count": 26,
   "metadata": {},
   "outputs": [
    {
     "data": {
      "text/plain": [
       "<86x55 sparse matrix of type '<class 'numpy.float64'>'\n",
       "\twith 346 stored elements in Compressed Sparse Row format>"
      ]
     },
     "execution_count": 26,
     "metadata": {},
     "output_type": "execute_result"
    },
    {
     "data": {
      "text/plain": [
       "array([[0.70202984, 0.        , 0.        , ..., 0.        , 0.        ,\n",
       "        0.        ],\n",
       "       [0.        , 0.        , 0.        , ..., 0.        , 0.48368392,\n",
       "        0.        ],\n",
       "       [0.19065492, 0.        , 0.        , ..., 0.        , 0.        ,\n",
       "        0.        ],\n",
       "       ...,\n",
       "       [0.47198183, 0.        , 0.        , ..., 0.        , 0.        ,\n",
       "        0.        ],\n",
       "       [0.        , 0.        , 0.        , ..., 0.        , 0.        ,\n",
       "        0.        ],\n",
       "       [0.27070981, 0.        , 0.        , ..., 0.        , 0.        ,\n",
       "        0.        ]])"
      ]
     },
     "execution_count": 26,
     "metadata": {},
     "output_type": "execute_result"
    },
    {
     "data": {
      "text/plain": [
       "<86x54 sparse matrix of type '<class 'numpy.float64'>'\n",
       "\twith 341 stored elements in Compressed Sparse Row format>"
      ]
     },
     "execution_count": 26,
     "metadata": {},
     "output_type": "execute_result"
    }
   ],
   "source": [
    "x_traintfidf\n",
    "x_traintfidf.toarray()\n",
    "TO_REMOVE = [1]\n",
    "to_keep = list(set(range(x_traintfidf.shape[1]))-set(TO_REMOVE))    \n",
    "new_x_traintfidf = x_traintfidf[:,to_keep]\n",
    "\n",
    "new_x_traintfidf"
   ]
  },
  {
   "cell_type": "code",
   "execution_count": 27,
   "metadata": {},
   "outputs": [],
   "source": [
    "modelSVM = svm.SVC(kernel='linear')"
   ]
  },
  {
   "cell_type": "code",
   "execution_count": 28,
   "metadata": {},
   "outputs": [
    {
     "data": {
      "text/plain": [
       "0     0\n",
       "1     1\n",
       "2     0\n",
       "3     0\n",
       "4     1\n",
       "5     0\n",
       "6     1\n",
       "7     1\n",
       "8     1\n",
       "9     0\n",
       "10    1\n",
       "11    0\n",
       "12    1\n",
       "13    1\n",
       "14    1\n",
       "15    1\n",
       "16    1\n",
       "17    1\n",
       "18    0\n",
       "19    1\n",
       "20    0\n",
       "21    0\n",
       "22    0\n",
       "23    0\n",
       "24    0\n",
       "25    0\n",
       "26    1\n",
       "27    1\n",
       "28    0\n",
       "29    0\n",
       "     ..\n",
       "56    0\n",
       "57    1\n",
       "58    0\n",
       "59    0\n",
       "60    1\n",
       "61    1\n",
       "62    0\n",
       "63    1\n",
       "64    1\n",
       "65    0\n",
       "66    1\n",
       "67    0\n",
       "68    1\n",
       "69    1\n",
       "70    0\n",
       "71    1\n",
       "72    1\n",
       "73    0\n",
       "74    0\n",
       "75    1\n",
       "76    1\n",
       "77    0\n",
       "78    0\n",
       "79    0\n",
       "80    1\n",
       "81    0\n",
       "82    0\n",
       "83    0\n",
       "84    1\n",
       "85    0\n",
       "Name: category, Length: 86, dtype: int64"
      ]
     },
     "execution_count": 28,
     "metadata": {},
     "output_type": "execute_result"
    }
   ],
   "source": [
    "train_y"
   ]
  },
  {
   "cell_type": "code",
   "execution_count": 29,
   "metadata": {},
   "outputs": [],
   "source": [
    "\n",
    "# modelSVM_crossValidation_mutual_accuracy = cross_val_score(modelSVM,mutual_X_train,train_y,cv=5,scoring='accuracy')\n",
    "modelSVM_crossValidation_mutual_accuracy = cross_val_score(modelSVM,new_x_traintfidf,train_y,cv=5,scoring='accuracy')\n",
    "# modelSVM_crossValidation_mutual_f1 = cross_val_score(modelSVM,mutual_X_train,train_y,cv=5,scoring='f1')\n",
    "modelSVM_crossValidation_mutual_f1 = cross_val_score(modelSVM,new_x_traintfidf,train_y,cv=5,scoring='f1')"
   ]
  },
  {
   "cell_type": "code",
   "execution_count": null,
   "metadata": {},
   "outputs": [],
   "source": []
  },
  {
   "cell_type": "code",
   "execution_count": 30,
   "metadata": {},
   "outputs": [
    {
     "data": {
      "text/plain": [
       "array([1.        , 1.        , 1.        , 0.94117647, 0.94117647])"
      ]
     },
     "execution_count": 30,
     "metadata": {},
     "output_type": "execute_result"
    }
   ],
   "source": [
    "modelSVM_crossValidation_mutual_accuracy"
   ]
  },
  {
   "cell_type": "code",
   "execution_count": 31,
   "metadata": {},
   "outputs": [
    {
     "data": {
      "text/plain": [
       "array([1.        , 1.        , 1.        , 0.94117647, 0.94117647])"
      ]
     },
     "execution_count": 31,
     "metadata": {},
     "output_type": "execute_result"
    }
   ],
   "source": [
    "modelSVM_crossValidation_mutual_f1"
   ]
  },
  {
   "cell_type": "code",
   "execution_count": 32,
   "metadata": {},
   "outputs": [
    {
     "data": {
      "text/plain": [
       "0.9764705882352942"
      ]
     },
     "execution_count": 32,
     "metadata": {},
     "output_type": "execute_result"
    }
   ],
   "source": [
    "modelSVM_crossValidation_mutual_accuracy.mean()"
   ]
  },
  {
   "cell_type": "code",
   "execution_count": 33,
   "metadata": {},
   "outputs": [
    {
     "data": {
      "text/plain": [
       "0.9764705882352942"
      ]
     },
     "execution_count": 33,
     "metadata": {},
     "output_type": "execute_result"
    }
   ],
   "source": [
    "modelSVM_crossValidation_mutual_f1.mean()"
   ]
  },
  {
   "cell_type": "code",
   "execution_count": 34,
   "metadata": {},
   "outputs": [
    {
     "data": {
      "text/plain": [
       "SVC(C=1.0, cache_size=200, class_weight=None, coef0=0.0,\n",
       "  decision_function_shape='ovr', degree=3, gamma='auto_deprecated',\n",
       "  kernel='linear', max_iter=-1, probability=False, random_state=None,\n",
       "  shrinking=True, tol=0.001, verbose=False)"
      ]
     },
     "execution_count": 34,
     "metadata": {},
     "output_type": "execute_result"
    },
    {
     "data": {
      "text/plain": [
       "array([[-1.9010354 , -0.79066443,  0.45812634, -0.45071857, -0.43433437,\n",
       "         0.24047185,  0.3418208 ,  0.41257055,  0.20288901, -0.42972954,\n",
       "        -0.49814492,  0.641592  , -0.70394943,  0.33849307, -0.35417573,\n",
       "         0.20317501, -0.0547295 ,  0.18414788, -0.17282191,  0.23944457,\n",
       "        -0.32202759, -0.78791684,  0.19506824,  0.38776098,  0.51041841,\n",
       "         0.12678189,  0.14464223, -0.44644992, -0.27731832, -0.56297538,\n",
       "         1.97015591,  0.34653331,  0.22367191,  0.3173552 , -0.60283015,\n",
       "        -0.17692284, -0.0760861 ,  0.20363708,  0.1330179 ,  0.        ,\n",
       "         0.34684897,  0.24047185,  0.16049492,  0.41463574,  0.09522681,\n",
       "         0.54757712, -0.13103593, -0.00636633,  0.19137176,  0.06942521,\n",
       "        -0.00276279,  0.26241412, -0.42525023,  0.3054376 ,  0.47992846]])"
      ]
     },
     "execution_count": 34,
     "metadata": {},
     "output_type": "execute_result"
    }
   ],
   "source": [
    "### Fitting SVM model \n",
    "\n",
    "\n",
    "# modelSVM.fit(mutual_X_train, train_y)\n",
    "modelSVM.fit(x_traintfidf, train_y)\n",
    "coef = modelSVM.coef_[0]\n",
    "coef.toarray()"
   ]
  },
  {
   "cell_type": "code",
   "execution_count": 35,
   "metadata": {},
   "outputs": [
    {
     "data": {
      "text/plain": [
       "4799"
      ]
     },
     "execution_count": 35,
     "metadata": {},
     "output_type": "execute_result"
    }
   ],
   "source": [
    "file_path = \"/Users/tejasvibelsare/Documents/Twitter10K.xlsx\"\n",
    "test = pd.read_excel(file_path, sheet_name='Sheet1',usecols = \"B\")\n",
    "len(test)"
   ]
  },
  {
   "cell_type": "code",
   "execution_count": 36,
   "metadata": {},
   "outputs": [
    {
     "data": {
      "text/plain": [
       "4799"
      ]
     },
     "execution_count": 36,
     "metadata": {},
     "output_type": "execute_result"
    }
   ],
   "source": [
    "file_path = \"/Users/tejasvibelsare/Documents/Twitter10K.xlsx\"\n",
    "classified_by_crimson= pd.read_excel(file_path, sheet_name='Sheet1',usecols = \"L\")\n",
    "classified = classified_by_crimson[\"classified\"]\n",
    "len(classified)"
   ]
  },
  {
   "cell_type": "code",
   "execution_count": 37,
   "metadata": {},
   "outputs": [
    {
     "data": {
      "text/html": [
       "<div>\n",
       "<style scoped>\n",
       "    .dataframe tbody tr th:only-of-type {\n",
       "        vertical-align: middle;\n",
       "    }\n",
       "\n",
       "    .dataframe tbody tr th {\n",
       "        vertical-align: top;\n",
       "    }\n",
       "\n",
       "    .dataframe thead th {\n",
       "        text-align: right;\n",
       "    }\n",
       "</style>\n",
       "<table border=\"1\" class=\"dataframe\">\n",
       "  <thead>\n",
       "    <tr style=\"text-align: right;\">\n",
       "      <th></th>\n",
       "      <th>Contents</th>\n",
       "    </tr>\n",
       "  </thead>\n",
       "  <tbody>\n",
       "    <tr>\n",
       "      <th>0</th>\n",
       "      <td>So I'm finally feeling better, just have a bad...</td>\n",
       "    </tr>\n",
       "    <tr>\n",
       "      <th>1</th>\n",
       "      <td>I have pink eye in both eyes...this blows</td>\n",
       "    </tr>\n",
       "    <tr>\n",
       "      <th>2</th>\n",
       "      <td>Some girl had pink-eye in my school today, and...</td>\n",
       "    </tr>\n",
       "    <tr>\n",
       "      <th>3</th>\n",
       "      <td>I bet people think I'm high but I actually jus...</td>\n",
       "    </tr>\n",
       "    <tr>\n",
       "      <th>4</th>\n",
       "      <td>@150CENTIMETRES hahahahaha me too, i got an mc...</td>\n",
       "    </tr>\n",
       "  </tbody>\n",
       "</table>\n",
       "</div>"
      ],
      "text/plain": [
       "                                            Contents\n",
       "0  So I'm finally feeling better, just have a bad...\n",
       "1          I have pink eye in both eyes...this blows\n",
       "2  Some girl had pink-eye in my school today, and...\n",
       "3  I bet people think I'm high but I actually jus...\n",
       "4  @150CENTIMETRES hahahahaha me too, i got an mc..."
      ]
     },
     "execution_count": 37,
     "metadata": {},
     "output_type": "execute_result"
    },
    {
     "data": {
      "text/plain": [
       "4799"
      ]
     },
     "execution_count": 37,
     "metadata": {},
     "output_type": "execute_result"
    }
   ],
   "source": [
    "test.head()\n",
    "test_x = test[\"Contents\"]\n",
    "len(test[\"Contents\"])\n",
    "# classified_by_crimson = test[\"classified\"]"
   ]
  },
  {
   "cell_type": "code",
   "execution_count": 38,
   "metadata": {},
   "outputs": [
    {
     "data": {
      "text/plain": [
       "0       So I'm finally feeling better, just have a bad...\n",
       "1               I have pink eye in both eyes...this blows\n",
       "2       Some girl had pink-eye in my school today, and...\n",
       "3       I bet people think I'm high but I actually jus...\n",
       "4       @150CENTIMETRES hahahahaha me too, i got an mc...\n",
       "5            I'm pretty sure I have fucking pink eye. FML\n",
       "6       @maggieenglish @emjs44 i would not suggest get...\n",
       "7       I watched the vlog where @rj4gui4r got pink ey...\n",
       "8        @ktrenkema I gots pink eye in both of my eyes ??\n",
       "9       @JDRAMIREZ I just had to put eye allergy drops...\n",
       "10                                  i have an eye allergy\n",
       "11      Conjunctivitis in my eye :(   </3\\n\\n#FML #wor...\n",
       "12      i couldn't go to tennis tryouts bc i have pink...\n",
       "13                                    I have pink eye ugh\n",
       "14      @samanthaleigh_5 ouch. I'm trying to get ready...\n",
       "15               Oh my Lord my eyes itch!!! ?? #allergies\n",
       "16                    My mom mad assl she has pink eye ??\n",
       "17                  Looks like I have pink eye oh my fuck\n",
       "18      Going to the nurse tomorrow I think I have pin...\n",
       "19      i step outside for 2 seconds and my eyes itch ...\n",
       "20                    My Eyes Itch!!!! Fuck You Allergies\n",
       "21            @EmilyRouani ??? he told me i have pink eye\n",
       "22      @DShuman32 I do have pink eye! ?? I'm just hop...\n",
       "23                I hate my allergies my eyes itch so bad\n",
       "24      Coco crisp is out due to pink eye in both eyes...\n",
       "25      What a Day! Been taking care of my Dad, he got...\n",
       "26      This eye allergy is getting on my nerves reall...\n",
       "27      I had a runny nose and watery eyes at work bec...\n",
       "28      Okay so I've got conjunctivitis &it looks like...\n",
       "29      I have conjunctivitis but can't afford eye dro...\n",
       "                              ...                        \n",
       "4769             my eyes itch !! i need allergy eye drops\n",
       "4770    I can't stop sneezing and itching my eyes. I H...\n",
       "4771                         I. Hate. Pink Eye. #noschool\n",
       "4772    Eyes watering, itching, nose running, sneezing...\n",
       "4773              I fucking hate pink eye #sogross #whyme\n",
       "4774                               I hate pink eye. #wahh\n",
       "4775       My nose and eyes are fuckin itching #allergies\n",
       "4776    these allergies bout to kick my ass, eyes alre...\n",
       "4777                  pretty sure I have fucking pink eye\n",
       "4778    Gaaaahhhhhh My Eyes Are Itching, Nose Is Tingl...\n",
       "4779                                I have pink eye. ugh.\n",
       "4780    I hate my allergies puffy ass eyes always itch...\n",
       "4781             My allergies are bad. Eyes Hella itching\n",
       "4782    I hate pink eye. I hate pink eye. I hate pink ...\n",
       "4783                        i hate pink eye #seriouslybro\n",
       "4784       My nose is running and my eyes itch #allergies\n",
       "4785                           Ugh I hate having pink eye\n",
       "4786                MY ALLERGIES DRAWLING EYE ALL ITCHING\n",
       "4787    Since I lost my allergy pills, my eyes itch an...\n",
       "4788               I hate allergies! My eyes itch so bad!\n",
       "4789                    Fuck allergies my eye itch so bad\n",
       "4790                My eyes itch I hate allergies so much\n",
       "4791                   Pretty sure I have pink eye. Fuck.\n",
       "4792                                I have pink eye. Ugh.\n",
       "4793    Ugh, i hate allergies. My eyes itch like crazy :/\n",
       "4794             Stupid allergies!! Make my eyes itch >.<\n",
       "4795    My eyes keep itching my allergies acting up ??...\n",
       "4796                                  Ugh I have pink eye\n",
       "4797                nooooooo, now my eyes itch #allergies\n",
       "4798          Fuck these allergies my eyes itch so bad!!!\n",
       "Name: Contents, Length: 4799, dtype: object"
      ]
     },
     "execution_count": 38,
     "metadata": {},
     "output_type": "execute_result"
    }
   ],
   "source": [
    "test_x"
   ]
  },
  {
   "cell_type": "code",
   "execution_count": 39,
   "metadata": {},
   "outputs": [
    {
     "data": {
      "text/plain": [
       "2"
      ]
     },
     "execution_count": 39,
     "metadata": {},
     "output_type": "execute_result"
    }
   ],
   "source": [
    "x_traintfidf.ndim"
   ]
  },
  {
   "cell_type": "code",
   "execution_count": 40,
   "metadata": {},
   "outputs": [
    {
     "data": {
      "text/plain": [
       "(4799, 55)"
      ]
     },
     "execution_count": 40,
     "metadata": {},
     "output_type": "execute_result"
    }
   ],
   "source": [
    "testtfidf = tfidf.transform(test_x)\n",
    "testtfidf.shape"
   ]
  },
  {
   "cell_type": "code",
   "execution_count": 41,
   "metadata": {},
   "outputs": [
    {
     "data": {
      "text/plain": [
       "2"
      ]
     },
     "execution_count": 41,
     "metadata": {},
     "output_type": "execute_result"
    }
   ],
   "source": [
    "##### Finalizing features of test data\n",
    "\n",
    "X_test = mutual.transform(testtfidf)\n",
    "X_test.ndim"
   ]
  },
  {
   "cell_type": "code",
   "execution_count": 42,
   "metadata": {},
   "outputs": [
    {
     "data": {
      "text/plain": [
       "(4799, 50)"
      ]
     },
     "execution_count": 42,
     "metadata": {},
     "output_type": "execute_result"
    }
   ],
   "source": [
    "test_arr = X_test.toarray()\n",
    "test_arr.shape"
   ]
  },
  {
   "cell_type": "code",
   "execution_count": 43,
   "metadata": {},
   "outputs": [],
   "source": [
    "# pred_SVM = modelSVM.predict(X_test)\n",
    "pred_SVM = modelSVM.predict(testtfidf)"
   ]
  },
  {
   "cell_type": "code",
   "execution_count": 44,
   "metadata": {},
   "outputs": [],
   "source": [
    "SVM_accuracy = metrics.accuracy_score(classified, pred_SVM)"
   ]
  },
  {
   "cell_type": "code",
   "execution_count": 45,
   "metadata": {},
   "outputs": [
    {
     "data": {
      "text/plain": [
       "0.999166493019379"
      ]
     },
     "execution_count": 45,
     "metadata": {},
     "output_type": "execute_result"
    }
   ],
   "source": [
    "SVM_accuracy"
   ]
  },
  {
   "cell_type": "code",
   "execution_count": 46,
   "metadata": {},
   "outputs": [
    {
     "data": {
      "text/plain": [
       "(0.9903381642512077, 0.9903381642512077, 0.9903381642512077)"
      ]
     },
     "execution_count": 46,
     "metadata": {},
     "output_type": "execute_result"
    }
   ],
   "source": [
    "#####SVM\n",
    "precision, recall, F1, _ = list(precision_recall_fscore_support(classified, pred_SVM, beta=1.0, average=\"binary\"))\n",
    "precision , recall , F1"
   ]
  }
 ],
 "metadata": {
  "kernelspec": {
   "display_name": "Python 3",
   "language": "python",
   "name": "python3"
  },
  "language_info": {
   "codemirror_mode": {
    "name": "ipython",
    "version": 3
   },
   "file_extension": ".py",
   "mimetype": "text/x-python",
   "name": "python",
   "nbconvert_exporter": "python",
   "pygments_lexer": "ipython3",
   "version": "3.7.1"
  }
 },
 "nbformat": 4,
 "nbformat_minor": 2
}
